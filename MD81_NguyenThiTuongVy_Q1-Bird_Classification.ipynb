{
 "cells": [
  {
   "cell_type": "markdown",
   "id": "89800828",
   "metadata": {
    "papermill": {
     "duration": 0.00969,
     "end_time": "2024-01-21T08:58:40.192512",
     "exception": false,
     "start_time": "2024-01-21T08:58:40.182822",
     "status": "completed"
    },
    "tags": []
   },
   "source": [
    "# Q1. Bird Image Classification with Transfer Learning\n",
    "### Tóm tắt vấn đề: Phân loại hình ảnh các loại chim bằng CNN Transfer Learning\n",
    "Cho tập data Bird Species gồm ~84k ảnh của 525 nhãn, mỗi nhãn là tên khoa học của 1 loại chim tại\n",
    "Kaggle: https://www.kaggle.com/datasets/gpiosenka/100-bird-species.\n",
    "### Yêu cầu:\n",
    "#### 1. Sử dụng các kiến thức đã học (CNN, Transfer Learning), tạo mới hoặc sử dụng 1 mô hình pretrained phù hợp để phân loại ảnh của 525 nhãn trong tập data trên.\n",
    "#### 2. Huấn luyện và tuning, tăng cường mô hình sử dụng các kỹ thuật đã học (Adam, LRScheduler, Data Augmentation…) trên tập data trên. Report lại performance trên tập Test. Nhận xét kết quả thu được."
   ]
  },
  {
   "cell_type": "markdown",
   "id": "f9b812fa",
   "metadata": {
    "papermill": {
     "duration": 0.009015,
     "end_time": "2024-01-21T08:58:40.211128",
     "exception": false,
     "start_time": "2024-01-21T08:58:40.202113",
     "status": "completed"
    },
    "tags": []
   },
   "source": [
    "## Bird Species Classification Using Transfer Learning"
   ]
  },
  {
   "cell_type": "markdown",
   "id": "46075599",
   "metadata": {
    "papermill": {
     "duration": 0.009328,
     "end_time": "2024-01-21T08:58:40.229707",
     "exception": false,
     "start_time": "2024-01-21T08:58:40.220379",
     "status": "completed"
    },
    "tags": []
   },
   "source": [
    "### 1. Load the data"
   ]
  },
  {
   "cell_type": "code",
   "execution_count": 1,
   "id": "118193cc",
   "metadata": {
    "execution": {
     "iopub.execute_input": "2024-01-21T08:58:40.249782Z",
     "iopub.status.busy": "2024-01-21T08:58:40.249435Z",
     "iopub.status.idle": "2024-01-21T08:58:48.063517Z",
     "shell.execute_reply": "2024-01-21T08:58:48.062525Z"
    },
    "papermill": {
     "duration": 7.827039,
     "end_time": "2024-01-21T08:58:48.065959",
     "exception": false,
     "start_time": "2024-01-21T08:58:40.238920",
     "status": "completed"
    },
    "tags": []
   },
   "outputs": [],
   "source": [
    "import os\n",
    "\n",
    "train_paths = []\n",
    "train_labels = []\n",
    "for bird_type in os.listdir(\"/kaggle/input/100-bird-species/train\"):\n",
    "    train_path_data = os.listdir(os.path.join(\"/kaggle/input/100-bird-species/train\",bird_type))\n",
    "    train_cur_path = os.path.join(\"/kaggle/input/100-bird-species/train\",bird_type)\n",
    "    train_paths.extend([os.path.join(train_cur_path,img) for img in train_path_data])\n",
    "    train_labels.extend([bird_type]*len(train_path_data))"
   ]
  },
  {
   "cell_type": "code",
   "execution_count": 2,
   "id": "f47f790f",
   "metadata": {
    "execution": {
     "iopub.execute_input": "2024-01-21T08:58:48.086984Z",
     "iopub.status.busy": "2024-01-21T08:58:48.086238Z",
     "iopub.status.idle": "2024-01-21T08:58:50.316087Z",
     "shell.execute_reply": "2024-01-21T08:58:50.315131Z"
    },
    "papermill": {
     "duration": 2.242815,
     "end_time": "2024-01-21T08:58:50.318494",
     "exception": false,
     "start_time": "2024-01-21T08:58:48.075679",
     "status": "completed"
    },
    "tags": []
   },
   "outputs": [],
   "source": [
    "test_paths = []\n",
    "test_labels = []\n",
    "for bird_type in os.listdir(\"/kaggle/input/100-bird-species/test\"):\n",
    "    test_path_data = os.listdir(os.path.join(\"/kaggle/input/100-bird-species/test\",bird_type))\n",
    "    test_cur_path = os.path.join(\"/kaggle/input/100-bird-species/test\",bird_type)\n",
    "    test_paths.extend([os.path.join(test_cur_path,img) for img in test_path_data])\n",
    "    test_labels.extend([bird_type]*len(test_path_data))"
   ]
  },
  {
   "cell_type": "code",
   "execution_count": 3,
   "id": "5692fa11",
   "metadata": {
    "execution": {
     "iopub.execute_input": "2024-01-21T08:58:50.338950Z",
     "iopub.status.busy": "2024-01-21T08:58:50.338619Z",
     "iopub.status.idle": "2024-01-21T08:58:52.643457Z",
     "shell.execute_reply": "2024-01-21T08:58:52.642677Z"
    },
    "papermill": {
     "duration": 2.317653,
     "end_time": "2024-01-21T08:58:52.645852",
     "exception": false,
     "start_time": "2024-01-21T08:58:50.328199",
     "status": "completed"
    },
    "tags": []
   },
   "outputs": [],
   "source": [
    "val_paths = []\n",
    "val_labels = []\n",
    "for bird_type in os.listdir(\"/kaggle/input/100-bird-species/valid\"):\n",
    "    val_path_data = os.listdir(os.path.join(\"/kaggle/input/100-bird-species/valid\",bird_type))\n",
    "    val_cur_path = os.path.join(\"/kaggle/input/100-bird-species/valid\",bird_type)\n",
    "    val_paths.extend([os.path.join(val_cur_path,img) for img in val_path_data])\n",
    "    val_labels.extend([bird_type]*len(val_path_data))"
   ]
  },
  {
   "cell_type": "code",
   "execution_count": 4,
   "id": "68126b77",
   "metadata": {
    "execution": {
     "iopub.execute_input": "2024-01-21T08:58:52.668302Z",
     "iopub.status.busy": "2024-01-21T08:58:52.667613Z",
     "iopub.status.idle": "2024-01-21T08:58:53.400309Z",
     "shell.execute_reply": "2024-01-21T08:58:53.399297Z"
    },
    "papermill": {
     "duration": 0.745971,
     "end_time": "2024-01-21T08:58:53.402753",
     "exception": false,
     "start_time": "2024-01-21T08:58:52.656782",
     "status": "completed"
    },
    "tags": []
   },
   "outputs": [],
   "source": [
    "import pandas as pd"
   ]
  },
  {
   "cell_type": "code",
   "execution_count": 5,
   "id": "c04b9b75",
   "metadata": {
    "execution": {
     "iopub.execute_input": "2024-01-21T08:58:53.424816Z",
     "iopub.status.busy": "2024-01-21T08:58:53.423974Z",
     "iopub.status.idle": "2024-01-21T08:58:53.445909Z",
     "shell.execute_reply": "2024-01-21T08:58:53.445141Z"
    },
    "papermill": {
     "duration": 0.034939,
     "end_time": "2024-01-21T08:58:53.448212",
     "exception": false,
     "start_time": "2024-01-21T08:58:53.413273",
     "status": "completed"
    },
    "tags": []
   },
   "outputs": [],
   "source": [
    "train_data = pd.DataFrame({\"path\":train_paths,\"label\":train_labels})\n",
    "test_data = pd.DataFrame({\"path\":test_paths,\"label\":test_labels})\n",
    "val_data = pd.DataFrame({\"path\":val_paths,\"label\":val_labels})"
   ]
  },
  {
   "cell_type": "markdown",
   "id": "6d22c6f5",
   "metadata": {
    "papermill": {
     "duration": 0.009759,
     "end_time": "2024-01-21T08:58:53.467925",
     "exception": false,
     "start_time": "2024-01-21T08:58:53.458166",
     "status": "completed"
    },
    "tags": []
   },
   "source": [
    "### 2. Data Loader and Custom Data Class"
   ]
  },
  {
   "cell_type": "code",
   "execution_count": 6,
   "id": "50a82505",
   "metadata": {
    "execution": {
     "iopub.execute_input": "2024-01-21T08:58:53.489175Z",
     "iopub.status.busy": "2024-01-21T08:58:53.488313Z",
     "iopub.status.idle": "2024-01-21T08:58:56.858272Z",
     "shell.execute_reply": "2024-01-21T08:58:56.857468Z"
    },
    "papermill": {
     "duration": 3.38304,
     "end_time": "2024-01-21T08:58:56.860630",
     "exception": false,
     "start_time": "2024-01-21T08:58:53.477590",
     "status": "completed"
    },
    "tags": []
   },
   "outputs": [],
   "source": [
    "from PIL import Image\n",
    "import os\n",
    "import torch\n",
    "from torch.utils.data import DataLoader\n",
    "\n",
    "# define a data class\n",
    "class ClassificationDataset:\n",
    "    def __init__(self, data, data_path, transform, training=True):\n",
    "        \"\"\"Define the dataset for classification problems\n",
    "\n",
    "        Args:\n",
    "            data ([dataframe]): [a dataframe that contain 2 columns: image name and label]\n",
    "            data_path ([str]): [path/to/folder that contains image file]\n",
    "            transform : [augmentation methods and transformation of images]\n",
    "            training (bool, optional): []. Defaults to True.\n",
    "        \"\"\"\n",
    "        self.data = data\n",
    "        self.imgs = data[\"path\"].unique().tolist()\n",
    "        self.data_path = data_path\n",
    "        self.training = training\n",
    "        self.transform = transform\n",
    "\n",
    "    def __getitem__(self, idx):\n",
    "        img = Image.open(os.path.join(self.data_path, self.data.iloc[idx, 0]))\n",
    "        label = self.data.iloc[idx, 1]\n",
    "        if self.transform is not None:\n",
    "            img = self.transform(img)\n",
    "        return img, label\n",
    "\n",
    "    def __len__(self):\n",
    "        return len(self.imgs)"
   ]
  },
  {
   "cell_type": "markdown",
   "id": "a9c4c3b0",
   "metadata": {
    "papermill": {
     "duration": 0.009337,
     "end_time": "2024-01-21T08:58:56.879989",
     "exception": false,
     "start_time": "2024-01-21T08:58:56.870652",
     "status": "completed"
    },
    "tags": []
   },
   "source": [
    "### Define Data Transform Strategy"
   ]
  },
  {
   "cell_type": "code",
   "execution_count": 7,
   "id": "00739df4",
   "metadata": {
    "execution": {
     "iopub.execute_input": "2024-01-21T08:58:56.900937Z",
     "iopub.status.busy": "2024-01-21T08:58:56.900447Z",
     "iopub.status.idle": "2024-01-21T08:58:57.233910Z",
     "shell.execute_reply": "2024-01-21T08:58:57.232956Z"
    },
    "papermill": {
     "duration": 0.34642,
     "end_time": "2024-01-21T08:58:57.236213",
     "exception": false,
     "start_time": "2024-01-21T08:58:56.889793",
     "status": "completed"
    },
    "tags": []
   },
   "outputs": [],
   "source": [
    "import torchvision.transforms as transform\n",
    "import torchvision\n",
    "train_transform = transform.Compose([\n",
    "                           transform.Resize((224, 224)),\n",
    "                           transform.ColorJitter(brightness=0.2, contrast=0.2, saturation=0.2),\n",
    "                           transform.RandomRotation(5),\n",
    "                           transform.RandomAffine(degrees=11, translate=(0.1,0.1), scale=(0.8,0.8)),\n",
    "                           transform.ToTensor(),\n",
    "                           transform.Normalize([0.485, 0.456, 0.406], [0.229, 0.224, 0.225])\n",
    "])"
   ]
  },
  {
   "cell_type": "code",
   "execution_count": 8,
   "id": "6e127375",
   "metadata": {
    "execution": {
     "iopub.execute_input": "2024-01-21T08:58:57.257199Z",
     "iopub.status.busy": "2024-01-21T08:58:57.256851Z",
     "iopub.status.idle": "2024-01-21T08:58:57.263178Z",
     "shell.execute_reply": "2024-01-21T08:58:57.262445Z"
    },
    "papermill": {
     "duration": 0.019049,
     "end_time": "2024-01-21T08:58:57.265173",
     "exception": false,
     "start_time": "2024-01-21T08:58:57.246124",
     "status": "completed"
    },
    "tags": []
   },
   "outputs": [],
   "source": [
    "val_transform = transform.Compose([\n",
    "                           transform.Resize((224, 224)),\n",
    "                           transform.ColorJitter(brightness=0.2, contrast=0.2, saturation=0.2),\n",
    "                           transform.RandomRotation(5),\n",
    "                           transform.RandomAffine(degrees=11, translate=(0.1,0.1), scale=(0.8,0.8)),\n",
    "                           transform.ToTensor(),\n",
    "                           transform.Normalize([0.485, 0.456, 0.406], [0.229, 0.224, 0.225])\n",
    "])"
   ]
  },
  {
   "cell_type": "code",
   "execution_count": 9,
   "id": "e696f86a",
   "metadata": {
    "execution": {
     "iopub.execute_input": "2024-01-21T08:58:57.286577Z",
     "iopub.status.busy": "2024-01-21T08:58:57.286196Z",
     "iopub.status.idle": "2024-01-21T08:58:57.291115Z",
     "shell.execute_reply": "2024-01-21T08:58:57.290260Z"
    },
    "papermill": {
     "duration": 0.018028,
     "end_time": "2024-01-21T08:58:57.292984",
     "exception": false,
     "start_time": "2024-01-21T08:58:57.274956",
     "status": "completed"
    },
    "tags": []
   },
   "outputs": [],
   "source": [
    "test_transform = transform.Compose([\n",
    "                           transform.Resize((224, 224)),\n",
    "                           transform.ToTensor(),\n",
    "                           transform.Normalize([0.485, 0.456, 0.406], [0.229, 0.224, 0.225])\n",
    "])"
   ]
  },
  {
   "cell_type": "code",
   "execution_count": 10,
   "id": "742ff449",
   "metadata": {
    "execution": {
     "iopub.execute_input": "2024-01-21T08:58:57.314744Z",
     "iopub.status.busy": "2024-01-21T08:58:57.313889Z",
     "iopub.status.idle": "2024-01-21T08:58:58.168118Z",
     "shell.execute_reply": "2024-01-21T08:58:58.167272Z"
    },
    "papermill": {
     "duration": 0.867889,
     "end_time": "2024-01-21T08:58:58.170785",
     "exception": false,
     "start_time": "2024-01-21T08:58:57.302896",
     "status": "completed"
    },
    "tags": []
   },
   "outputs": [
    {
     "name": "stderr",
     "output_type": "stream",
     "text": [
      "/opt/conda/lib/python3.10/site-packages/scipy/__init__.py:146: UserWarning: A NumPy version >=1.16.5 and <1.23.0 is required for this version of SciPy (detected version 1.24.3\n",
      "  warnings.warn(f\"A NumPy version >={np_minversion} and <{np_maxversion}\"\n"
     ]
    }
   ],
   "source": [
    "## mapping data\n",
    "from sklearn import preprocessing\n",
    "le = preprocessing.LabelEncoder()\n",
    "train_data.label = le.fit_transform(train_data.label)\n",
    "test_data.label = le.fit_transform(test_data.label)\n",
    "val_data.label = le.fit_transform(val_data.label)"
   ]
  },
  {
   "cell_type": "markdown",
   "id": "f143822b",
   "metadata": {
    "papermill": {
     "duration": 0.009785,
     "end_time": "2024-01-21T08:58:58.190847",
     "exception": false,
     "start_time": "2024-01-21T08:58:58.181062",
     "status": "completed"
    },
    "tags": []
   },
   "source": [
    "### implement data loaders for train/val/test"
   ]
  },
  {
   "cell_type": "code",
   "execution_count": 11,
   "id": "3e219e76",
   "metadata": {
    "execution": {
     "iopub.execute_input": "2024-01-21T08:58:58.212507Z",
     "iopub.status.busy": "2024-01-21T08:58:58.212124Z",
     "iopub.status.idle": "2024-01-21T08:58:58.245662Z",
     "shell.execute_reply": "2024-01-21T08:58:58.244881Z"
    },
    "papermill": {
     "duration": 0.047125,
     "end_time": "2024-01-21T08:58:58.248007",
     "exception": false,
     "start_time": "2024-01-21T08:58:58.200882",
     "status": "completed"
    },
    "tags": []
   },
   "outputs": [],
   "source": [
    "trainset = ClassificationDataset(train_data,data_path = \"\",transform=train_transform,training=True)\n",
    "valset = ClassificationDataset(val_data,data_path = \"\",transform=val_transform,training=True)"
   ]
  },
  {
   "cell_type": "code",
   "execution_count": 12,
   "id": "685c76ef",
   "metadata": {
    "execution": {
     "iopub.execute_input": "2024-01-21T08:58:58.270278Z",
     "iopub.status.busy": "2024-01-21T08:58:58.269541Z",
     "iopub.status.idle": "2024-01-21T08:58:58.274655Z",
     "shell.execute_reply": "2024-01-21T08:58:58.273908Z"
    },
    "papermill": {
     "duration": 0.01825,
     "end_time": "2024-01-21T08:58:58.276527",
     "exception": false,
     "start_time": "2024-01-21T08:58:58.258277",
     "status": "completed"
    },
    "tags": []
   },
   "outputs": [],
   "source": [
    "testset = ClassificationDataset(test_data,data_path = \"\",transform=test_transform,training=False)"
   ]
  },
  {
   "cell_type": "code",
   "execution_count": 13,
   "id": "d046b54d",
   "metadata": {
    "execution": {
     "iopub.execute_input": "2024-01-21T08:58:58.299242Z",
     "iopub.status.busy": "2024-01-21T08:58:58.298532Z",
     "iopub.status.idle": "2024-01-21T08:58:58.303755Z",
     "shell.execute_reply": "2024-01-21T08:58:58.302901Z"
    },
    "papermill": {
     "duration": 0.018278,
     "end_time": "2024-01-21T08:58:58.305612",
     "exception": false,
     "start_time": "2024-01-21T08:58:58.287334",
     "status": "completed"
    },
    "tags": []
   },
   "outputs": [],
   "source": [
    "train_loader = DataLoader(trainset, batch_size=32, shuffle=True,)\n",
    "val_loader = DataLoader(valset, batch_size=32, shuffle=True,)\n",
    "test_loader = DataLoader(testset, batch_size=1, shuffle=False)"
   ]
  },
  {
   "cell_type": "markdown",
   "id": "95d52dfa",
   "metadata": {
    "papermill": {
     "duration": 0.010248,
     "end_time": "2024-01-21T08:58:58.380037",
     "exception": false,
     "start_time": "2024-01-21T08:58:58.369789",
     "status": "completed"
    },
    "tags": []
   },
   "source": [
    "## 3. Define Metrics and Optimizers and Loss function"
   ]
  },
  {
   "cell_type": "markdown",
   "id": "2bc75ea4",
   "metadata": {
    "papermill": {
     "duration": 0.010181,
     "end_time": "2024-01-21T08:58:58.400837",
     "exception": false,
     "start_time": "2024-01-21T08:58:58.390656",
     "status": "completed"
    },
    "tags": []
   },
   "source": [
    "### CrossEntropyLoss"
   ]
  },
  {
   "cell_type": "code",
   "execution_count": 14,
   "id": "34ad0208",
   "metadata": {
    "execution": {
     "iopub.execute_input": "2024-01-21T08:58:58.423370Z",
     "iopub.status.busy": "2024-01-21T08:58:58.422584Z",
     "iopub.status.idle": "2024-01-21T08:58:58.503045Z",
     "shell.execute_reply": "2024-01-21T08:58:58.502267Z"
    },
    "papermill": {
     "duration": 0.094259,
     "end_time": "2024-01-21T08:58:58.505338",
     "exception": false,
     "start_time": "2024-01-21T08:58:58.411079",
     "status": "completed"
    },
    "tags": []
   },
   "outputs": [],
   "source": [
    "from sklearn import metrics as skmetrics\n",
    "import numpy\n",
    "class Metrics:\n",
    "    def __init__(self, metric_names):\n",
    "        self.metric_names = metric_names\n",
    "        # initialize a metric dictionary\n",
    "        self.metric_dict = {metric_name: [0] for metric_name in self.metric_names}\n",
    "\n",
    "    def step(self, labels, preds):\n",
    "        for metric in self.metric_names:\n",
    "            # get the metric function\n",
    "            do_metric = getattr(\n",
    "                skmetrics, metric, \"The metric {} is not implemented\".format(metric)\n",
    "            )\n",
    "            # check if metric require average method, if yes set to 'micro' or 'macro' or 'None'\n",
    "            try:\n",
    "                self.metric_dict[metric].append(\n",
    "                    do_metric(labels, preds, average=\"macro\")\n",
    "                )\n",
    "            except:\n",
    "                self.metric_dict[metric].append(do_metric(labels, preds))\n",
    "\n",
    "    def epoch(self):\n",
    "        # calculate metrics for an entire epoch\n",
    "        avg = [sum(metric) / (len(metric) - 1) for metric in self.metric_dict.values()]\n",
    "        metric_as_dict = dict(zip(self.metric_names, avg))\n",
    "        return metric_as_dict\n",
    "\n",
    "    def last_step_metrics(self):\n",
    "        # return metrics of last steps\n",
    "        values = [self.metric_dict[metric][-1] for metric in self.metric_names]\n",
    "        metric_as_dict = dict(zip(self.metric_names, values))\n",
    "        return metric_as_dict"
   ]
  },
  {
   "cell_type": "code",
   "execution_count": 15,
   "id": "3ae8d5ca",
   "metadata": {
    "execution": {
     "iopub.execute_input": "2024-01-21T08:58:58.528377Z",
     "iopub.status.busy": "2024-01-21T08:58:58.527682Z",
     "iopub.status.idle": "2024-01-21T08:58:58.531999Z",
     "shell.execute_reply": "2024-01-21T08:58:58.531141Z"
    },
    "papermill": {
     "duration": 0.017461,
     "end_time": "2024-01-21T08:58:58.533993",
     "exception": false,
     "start_time": "2024-01-21T08:58:58.516532",
     "status": "completed"
    },
    "tags": []
   },
   "outputs": [],
   "source": [
    "train_metrics = Metrics([\"accuracy_score\",\"f1_score\"])\n",
    "val_metrics = Metrics([\"accuracy_score\",\"f1_score\"])"
   ]
  },
  {
   "cell_type": "code",
   "execution_count": 16,
   "id": "a2b7ab83",
   "metadata": {
    "execution": {
     "iopub.execute_input": "2024-01-21T08:58:58.556878Z",
     "iopub.status.busy": "2024-01-21T08:58:58.556519Z",
     "iopub.status.idle": "2024-01-21T08:58:58.613571Z",
     "shell.execute_reply": "2024-01-21T08:58:58.612597Z"
    },
    "papermill": {
     "duration": 0.071029,
     "end_time": "2024-01-21T08:58:58.615555",
     "exception": false,
     "start_time": "2024-01-21T08:58:58.544526",
     "status": "completed"
    },
    "tags": []
   },
   "outputs": [],
   "source": [
    "import torch\n",
    "device = torch.device(\"cuda\" if torch.cuda.is_available() else \"cpu\")\n",
    "from torch import nn\n",
    "criterion = nn.CrossEntropyLoss()"
   ]
  },
  {
   "cell_type": "code",
   "execution_count": 17,
   "id": "9a0df1a9",
   "metadata": {
    "execution": {
     "iopub.execute_input": "2024-01-21T08:58:58.640068Z",
     "iopub.status.busy": "2024-01-21T08:58:58.639261Z",
     "iopub.status.idle": "2024-01-21T08:58:58.645797Z",
     "shell.execute_reply": "2024-01-21T08:58:58.645021Z"
    },
    "papermill": {
     "duration": 0.019928,
     "end_time": "2024-01-21T08:58:58.647725",
     "exception": false,
     "start_time": "2024-01-21T08:58:58.627797",
     "status": "completed"
    },
    "tags": []
   },
   "outputs": [
    {
     "data": {
      "text/plain": [
       "device(type='cuda')"
      ]
     },
     "execution_count": 17,
     "metadata": {},
     "output_type": "execute_result"
    }
   ],
   "source": [
    "device"
   ]
  },
  {
   "cell_type": "markdown",
   "id": "4a013947",
   "metadata": {
    "papermill": {
     "duration": 0.010207,
     "end_time": "2024-01-21T08:58:58.668540",
     "exception": false,
     "start_time": "2024-01-21T08:58:58.658333",
     "status": "completed"
    },
    "tags": []
   },
   "source": [
    "## 4. Define the Model: Transfer Learning"
   ]
  },
  {
   "cell_type": "code",
   "execution_count": 18,
   "id": "0f0d9e12",
   "metadata": {
    "execution": {
     "iopub.execute_input": "2024-01-21T08:58:58.691315Z",
     "iopub.status.busy": "2024-01-21T08:58:58.690592Z",
     "iopub.status.idle": "2024-01-21T08:58:59.640696Z",
     "shell.execute_reply": "2024-01-21T08:58:59.639413Z"
    },
    "papermill": {
     "duration": 0.964093,
     "end_time": "2024-01-21T08:58:59.643078",
     "exception": false,
     "start_time": "2024-01-21T08:58:58.678985",
     "status": "completed"
    },
    "tags": []
   },
   "outputs": [
    {
     "name": "stderr",
     "output_type": "stream",
     "text": [
      "/opt/conda/lib/python3.10/site-packages/torchvision/models/_utils.py:208: UserWarning: The parameter 'pretrained' is deprecated since 0.13 and may be removed in the future, please use 'weights' instead.\n",
      "  warnings.warn(\n",
      "/opt/conda/lib/python3.10/site-packages/torchvision/models/_utils.py:223: UserWarning: Arguments other than a weight enum or `None` for 'weights' are deprecated since 0.13 and may be removed in the future. The current behavior is equivalent to passing `weights=EfficientNet_B0_Weights.IMAGENET1K_V1`. You can also use `weights=EfficientNet_B0_Weights.DEFAULT` to get the most up-to-date weights.\n",
      "  warnings.warn(msg)\n",
      "Downloading: \"https://download.pytorch.org/models/efficientnet_b0_rwightman-3dd342df.pth\" to /root/.cache/torch/hub/checkpoints/efficientnet_b0_rwightman-3dd342df.pth\n",
      "100%|██████████| 20.5M/20.5M [00:00<00:00, 62.6MB/s]\n"
     ]
    }
   ],
   "source": [
    "from torchvision import models\n",
    "from torch import nn\n",
    "model = models.efficientnet_b0(pretrained=True).cuda()\n",
    "for param in model.parameters():\n",
    "    param.requires_grad = False\n",
    "classifier = nn.Sequential(\n",
    "    nn.Linear(in_features=model.classifier[-1].in_features, out_features=525,bias=True),\n",
    ")\n",
    "model.classifier  = classifier"
   ]
  },
  {
   "cell_type": "code",
   "execution_count": 19,
   "id": "c53c0148",
   "metadata": {
    "execution": {
     "iopub.execute_input": "2024-01-21T08:58:59.667815Z",
     "iopub.status.busy": "2024-01-21T08:58:59.667473Z",
     "iopub.status.idle": "2024-01-21T08:58:59.672461Z",
     "shell.execute_reply": "2024-01-21T08:58:59.671515Z"
    },
    "papermill": {
     "duration": 0.019342,
     "end_time": "2024-01-21T08:58:59.674405",
     "exception": false,
     "start_time": "2024-01-21T08:58:59.655063",
     "status": "completed"
    },
    "tags": []
   },
   "outputs": [],
   "source": [
    "optimizer = torch.optim.Adam(model.classifier.parameters(), lr=0.001)\n",
    "scheduler = torch.optim.lr_scheduler.ReduceLROnPlateau(\n",
    "        optimizer, \"min\", patience=2, factor=0.5\n",
    "    )"
   ]
  },
  {
   "cell_type": "markdown",
   "id": "c4fe0b25",
   "metadata": {
    "papermill": {
     "duration": 0.01133,
     "end_time": "2024-01-21T08:58:59.697505",
     "exception": false,
     "start_time": "2024-01-21T08:58:59.686175",
     "status": "completed"
    },
    "tags": []
   },
   "source": [
    "## 5. Define a training epoch"
   ]
  },
  {
   "cell_type": "code",
   "execution_count": 20,
   "id": "679292b1",
   "metadata": {
    "execution": {
     "iopub.execute_input": "2024-01-21T08:58:59.721686Z",
     "iopub.status.busy": "2024-01-21T08:58:59.720886Z",
     "iopub.status.idle": "2024-01-21T08:58:59.730316Z",
     "shell.execute_reply": "2024-01-21T08:58:59.729569Z"
    },
    "papermill": {
     "duration": 0.023641,
     "end_time": "2024-01-21T08:58:59.732342",
     "exception": false,
     "start_time": "2024-01-21T08:58:59.708701",
     "status": "completed"
    },
    "tags": []
   },
   "outputs": [],
   "source": [
    "model = model.to(device)"
   ]
  },
  {
   "cell_type": "code",
   "execution_count": 21,
   "id": "22f7df43",
   "metadata": {
    "execution": {
     "iopub.execute_input": "2024-01-21T08:58:59.756845Z",
     "iopub.status.busy": "2024-01-21T08:58:59.756520Z",
     "iopub.status.idle": "2024-01-21T08:58:59.768735Z",
     "shell.execute_reply": "2024-01-21T08:58:59.767815Z"
    },
    "papermill": {
     "duration": 0.027068,
     "end_time": "2024-01-21T08:58:59.770906",
     "exception": false,
     "start_time": "2024-01-21T08:58:59.743838",
     "status": "completed"
    },
    "tags": []
   },
   "outputs": [],
   "source": [
    "def train_one_epoch(\n",
    "    model,\n",
    "    train_loader,\n",
    "    test_loader,\n",
    "    device,\n",
    "    optimizer,\n",
    "    criterion,\n",
    "    train_metrics,\n",
    "    val_metrics,\n",
    "):\n",
    "\n",
    "    # training-the-model\n",
    "    train_loss = 0\n",
    "    valid_loss = 0\n",
    "    all_labels = []\n",
    "    all_preds = []\n",
    "    model.train()\n",
    "    for data, target in train_loader:\n",
    "        # move-tensors-to-GPU\n",
    "        data = data.type(torch.FloatTensor).to(device)\n",
    "        # target=torch.Tensor(target)\n",
    "        target = target.float().to(device)\n",
    "        # clear-the-gradients-of-all-optimized-variables\n",
    "        optimizer.zero_grad()\n",
    "        # forward-pass: compute-predicted-outputs-by-passing-inputs-to-the-model\n",
    "        output = model(data)\n",
    "        # get the prediction label and target label\n",
    "        output = model(data)\n",
    "        preds = torch.argmax(output, axis=1).cpu().detach().numpy()\n",
    "        labels = target.cpu().numpy()\n",
    "        # calculate-the-batch-loss\n",
    "        loss = criterion(output.type(torch.FloatTensor), target.type(torch.LongTensor))\n",
    "        # backward-pass: compute-gradient-of-the-loss-wrt-model-parameters\n",
    "        loss.backward()\n",
    "        # perform-a-ingle-optimization-step (parameter-update)\n",
    "        optimizer.step()\n",
    "        # update-training-loss\n",
    "        train_loss += loss.item() * data.size(0)\n",
    "        # calculate training metrics\n",
    "        all_labels.extend(labels)\n",
    "        all_preds.extend(preds)\n",
    "    \n",
    "    train_metrics.step(all_labels, all_preds)\n",
    "\n",
    "    # validate-the-model\n",
    "    model.eval()\n",
    "    all_labels = []\n",
    "    all_preds = []\n",
    "    with torch.no_grad():\n",
    "        for data, target in test_loader:\n",
    "            data = data.type(torch.FloatTensor).to(device)\n",
    "            target = target.to(device)\n",
    "            output = model(data)\n",
    "            preds = torch.argmax(output, axis=1).tolist()\n",
    "            labels = target.tolist()\n",
    "            all_labels.extend(labels)\n",
    "            all_preds.extend(preds)\n",
    "            loss = criterion(output, target)\n",
    "\n",
    "            # update-average-validation-loss\n",
    "            valid_loss += loss.item() * data.size(0)\n",
    "\n",
    "    val_metrics.step(all_labels, all_preds)\n",
    "    train_loss = train_loss / len(train_loader.sampler)\n",
    "    valid_loss = valid_loss / len(test_loader.sampler)\n",
    "\n",
    "    return (\n",
    "        train_loss,\n",
    "        valid_loss,\n",
    "        train_metrics.last_step_metrics(),\n",
    "        val_metrics.last_step_metrics(),\n",
    "    )"
   ]
  },
  {
   "cell_type": "markdown",
   "id": "57a0418b",
   "metadata": {
    "papermill": {
     "duration": 0.011077,
     "end_time": "2024-01-21T08:58:59.793536",
     "exception": false,
     "start_time": "2024-01-21T08:58:59.782459",
     "status": "completed"
    },
    "tags": []
   },
   "source": [
    "## 6. Begin Training"
   ]
  },
  {
   "cell_type": "code",
   "execution_count": 22,
   "id": "7258411c",
   "metadata": {
    "execution": {
     "iopub.execute_input": "2024-01-21T08:58:59.818324Z",
     "iopub.status.busy": "2024-01-21T08:58:59.817953Z",
     "iopub.status.idle": "2024-01-21T08:58:59.822374Z",
     "shell.execute_reply": "2024-01-21T08:58:59.821445Z"
    },
    "papermill": {
     "duration": 0.019318,
     "end_time": "2024-01-21T08:58:59.824383",
     "exception": false,
     "start_time": "2024-01-21T08:58:59.805065",
     "status": "completed"
    },
    "tags": []
   },
   "outputs": [],
   "source": [
    "from tqdm import tqdm"
   ]
  },
  {
   "cell_type": "code",
   "execution_count": 23,
   "id": "bba75492",
   "metadata": {
    "execution": {
     "iopub.execute_input": "2024-01-21T08:58:59.849610Z",
     "iopub.status.busy": "2024-01-21T08:58:59.849212Z",
     "iopub.status.idle": "2024-01-21T08:58:59.853908Z",
     "shell.execute_reply": "2024-01-21T08:58:59.852944Z"
    },
    "papermill": {
     "duration": 0.020096,
     "end_time": "2024-01-21T08:58:59.856112",
     "exception": false,
     "start_time": "2024-01-21T08:58:59.836016",
     "status": "completed"
    },
    "tags": []
   },
   "outputs": [],
   "source": [
    "\n",
    "from datetime import datetime\n",
    "time_str = str(datetime.now().strftime(\"%Y%m%d-%H%M\"))"
   ]
  },
  {
   "cell_type": "code",
   "execution_count": 24,
   "id": "5dd63ff3",
   "metadata": {
    "execution": {
     "iopub.execute_input": "2024-01-21T08:58:59.881391Z",
     "iopub.status.busy": "2024-01-21T08:58:59.881025Z",
     "iopub.status.idle": "2024-01-21T10:47:36.488063Z",
     "shell.execute_reply": "2024-01-21T10:47:36.487162Z"
    },
    "papermill": {
     "duration": 6516.636889,
     "end_time": "2024-01-21T10:47:36.505155",
     "exception": false,
     "start_time": "2024-01-21T08:58:59.868266",
     "status": "completed"
    },
    "tags": []
   },
   "outputs": [
    {
     "name": "stdout",
     "output_type": "stream",
     "text": [
      "begin training process\n"
     ]
    },
    {
     "name": "stderr",
     "output_type": "stream",
     "text": [
      " 10%|█         | 1/10 [16:29<2:28:27, 989.68s/it]"
     ]
    },
    {
     "name": "stdout",
     "output_type": "stream",
     "text": [
      "Epoch 1 / 10 \n",
      " Training loss: 2.4985354363435888 - Other training metrics: \n",
      "{'accuracy_score': 0.5282448159744787, 'f1_score': 0.5241055037870551}\n",
      " \n",
      " Validation loss : 1.066960719335647 - Other validation metrics:\n",
      "{'accuracy_score': 0.7683809523809524, 'f1_score': 0.7582305497179447}\n",
      "\n",
      "\n",
      "Validation accuracy= 0.7683809523809524===> Save best epoch\n"
     ]
    },
    {
     "name": "stderr",
     "output_type": "stream",
     "text": [
      " 20%|██        | 2/10 [26:28<1:41:18, 759.82s/it]"
     ]
    },
    {
     "name": "stdout",
     "output_type": "stream",
     "text": [
      "Epoch 2 / 10 \n",
      " Training loss: 1.3329890718742912 - Other training metrics: \n",
      "{'accuracy_score': 0.6952797306079045, 'f1_score': 0.6935553391221384}\n",
      " \n",
      " Validation loss : 0.8923193124816531 - Other validation metrics:\n",
      "{'accuracy_score': 0.792, 'f1_score': 0.7849295712068821}\n",
      "\n",
      "\n",
      "Validation accuracy= 0.792===> Save best epoch\n"
     ]
    },
    {
     "name": "stderr",
     "output_type": "stream",
     "text": [
      " 30%|███       | 3/10 [36:30<1:20:13, 687.65s/it]"
     ]
    },
    {
     "name": "stdout",
     "output_type": "stream",
     "text": [
      "Epoch 3 / 10 \n",
      " Training loss: 1.1159583073594224 - Other training metrics: \n",
      "{'accuracy_score': 0.7341643528091215, 'f1_score': 0.7332598396792203}\n",
      " \n",
      " Validation loss : 0.7843921586121654 - Other validation metrics:\n",
      "{'accuracy_score': 0.8041904761904762, 'f1_score': 0.7996531140816855}\n",
      "\n",
      "\n",
      "Validation accuracy= 0.8041904761904762===> Save best epoch\n"
     ]
    },
    {
     "name": "stderr",
     "output_type": "stream",
     "text": [
      " 40%|████      | 4/10 [46:49<1:06:02, 660.42s/it]"
     ]
    },
    {
     "name": "stdout",
     "output_type": "stream",
     "text": [
      "Epoch 4 / 10 \n",
      " Training loss: 0.9939669896208783 - Other training metrics: \n",
      "{'accuracy_score': 0.7567554794115909, 'f1_score': 0.7560314352460833}\n",
      " \n",
      " Validation loss : 0.7219298980349587 - Other validation metrics:\n",
      "{'accuracy_score': 0.8205714285714286, 'f1_score': 0.8152400826686541}\n",
      "\n",
      "\n",
      "Validation accuracy= 0.8205714285714286===> Save best epoch\n"
     ]
    },
    {
     "name": "stderr",
     "output_type": "stream",
     "text": [
      " 50%|█████     | 5/10 [56:38<52:54, 634.83s/it]  "
     ]
    },
    {
     "name": "stdout",
     "output_type": "stream",
     "text": [
      "Epoch 5 / 10 \n",
      " Training loss: 0.9083418349996618 - Other training metrics: \n",
      "{'accuracy_score': 0.7747858450995451, 'f1_score': 0.7743446870725301}\n",
      " \n",
      " Validation loss : 0.6828015143420725 - Other validation metrics:\n",
      "{'accuracy_score': 0.8278095238095238, 'f1_score': 0.8226177651201977}\n",
      "\n",
      "\n",
      "Validation accuracy= 0.8278095238095238===> Save best epoch\n"
     ]
    },
    {
     "name": "stderr",
     "output_type": "stream",
     "text": [
      " 60%|██████    | 6/10 [1:06:20<41:07, 616.75s/it]"
     ]
    },
    {
     "name": "stdout",
     "output_type": "stream",
     "text": [
      "Epoch 6 / 10 \n",
      " Training loss: 0.8577217874154004 - Other training metrics: \n",
      "{'accuracy_score': 0.7852070656347847, 'f1_score': 0.7851178247653927}\n",
      " \n",
      " Validation loss : 0.7250354052583377 - Other validation metrics:\n",
      "{'accuracy_score': 0.8300952380952381, 'f1_score': 0.8244499838785553}\n",
      "\n",
      "\n",
      "Validation accuracy= 0.8300952380952381===> Save best epoch\n"
     ]
    },
    {
     "name": "stderr",
     "output_type": "stream",
     "text": [
      " 70%|███████   | 7/10 [1:16:31<30:44, 614.95s/it]"
     ]
    },
    {
     "name": "stdout",
     "output_type": "stream",
     "text": [
      "Epoch 7 / 10 \n",
      " Training loss: 0.8153873263821231 - Other training metrics: \n",
      "{'accuracy_score': 0.7921899923199622, 'f1_score': 0.791934668754511}\n",
      " \n",
      " Validation loss : 0.6859438927060082 - Other validation metrics:\n",
      "{'accuracy_score': 0.8266666666666667, 'f1_score': 0.8208284687612418}\n",
      "\n",
      "\n",
      "Validation accuracy= 0.8266666666666667===> No saving\n"
     ]
    },
    {
     "name": "stderr",
     "output_type": "stream",
     "text": [
      " 80%|████████  | 8/10 [1:27:08<20:44, 622.02s/it]"
     ]
    },
    {
     "name": "stdout",
     "output_type": "stream",
     "text": [
      "Epoch 8 / 10 \n",
      " Training loss: 0.7812834901501792 - Other training metrics: \n",
      "{'accuracy_score': 0.7996691676020559, 'f1_score': 0.7993888542715392}\n",
      " \n",
      " Validation loss : 0.7124446086883545 - Other validation metrics:\n",
      "{'accuracy_score': 0.8201904761904761, 'f1_score': 0.8127609057609056}\n",
      "\n",
      "\n",
      "Validation accuracy= 0.8201904761904761===> No saving\n"
     ]
    },
    {
     "name": "stderr",
     "output_type": "stream",
     "text": [
      " 90%|█████████ | 9/10 [1:37:47<10:27, 627.20s/it]"
     ]
    },
    {
     "name": "stdout",
     "output_type": "stream",
     "text": [
      "Epoch 9 / 10 \n",
      " Training loss: 0.6881558929549166 - Other training metrics: \n",
      "{'accuracy_score': 0.8208306256276954, 'f1_score': 0.8210913557952626}\n",
      " \n",
      " Validation loss : 0.6671276077315921 - Other validation metrics:\n",
      "{'accuracy_score': 0.8365714285714285, 'f1_score': 0.8299111576254433}\n",
      "\n",
      "\n",
      "Validation accuracy= 0.8365714285714285===> Save best epoch\n"
     ]
    },
    {
     "name": "stderr",
     "output_type": "stream",
     "text": [
      "100%|██████████| 10/10 [1:48:36<00:00, 651.66s/it]"
     ]
    },
    {
     "name": "stdout",
     "output_type": "stream",
     "text": [
      "Epoch 10 / 10 \n",
      " Training loss: 0.6602277630855239 - Other training metrics: \n",
      "{'accuracy_score': 0.828900573048975, 'f1_score': 0.8289074428039238}\n",
      " \n",
      " Validation loss : 0.6461658118764559 - Other validation metrics:\n",
      "{'accuracy_score': 0.8316190476190476, 'f1_score': 0.8254122755551326}\n",
      "\n",
      "\n",
      "Validation accuracy= 0.8316190476190476===> No saving\n"
     ]
    },
    {
     "name": "stderr",
     "output_type": "stream",
     "text": [
      "\n"
     ]
    }
   ],
   "source": [
    "num_epoch = 10\n",
    "best_val_acc = 0\n",
    "import logging\n",
    "import numpy as np\n",
    "print(\"begin training process\")\n",
    "for i in tqdm(range(0, num_epoch)):\n",
    "    loss, val_loss, train_result, val_result = train_one_epoch(\n",
    "        model,\n",
    "        train_loader,\n",
    "        val_loader,\n",
    "        device,\n",
    "        optimizer,\n",
    "        criterion,\n",
    "        train_metrics,\n",
    "        val_metrics,\n",
    "    )\n",
    "\n",
    "    scheduler.step(val_loss)\n",
    "    print(\n",
    "        \"Epoch {} / {} \\n Training loss: {} - Other training metrics: \".format(\n",
    "            i + 1, num_epoch, loss\n",
    "        )\n",
    "    )\n",
    "    print(train_result)\n",
    "    print(\n",
    "        \" \\n Validation loss : {} - Other validation metrics:\".format(val_loss)\n",
    "    )\n",
    "    print(val_result)\n",
    "    print(\"\\n\")\n",
    "    # saving epoch with best validation accuracy\n",
    "    if best_val_acc < float(val_result[\"accuracy_score\"]):\n",
    "        print(\n",
    "            \"Validation accuracy= \"+\n",
    "            str(val_result[\"accuracy_score\"])+\n",
    "            \"===> Save best epoch\"\n",
    "        )\n",
    "        best_val_acc = val_result[\"accuracy_score\"]\n",
    "        torch.save(\n",
    "            model.state_dict(),\n",
    "            \"./\" +  \"best.pt\",\n",
    "        )\n",
    "    else:\n",
    "        print(\n",
    "            \"Validation accuracy= \"+ str(val_result[\"accuracy_score\"])+ \"===> No saving\"\n",
    "        )\n",
    "        continue"
   ]
  },
  {
   "cell_type": "markdown",
   "id": "c4c4670e",
   "metadata": {
    "papermill": {
     "duration": 0.012958,
     "end_time": "2024-01-21T10:47:36.531345",
     "exception": false,
     "start_time": "2024-01-21T10:47:36.518387",
     "status": "completed"
    },
    "tags": []
   },
   "source": [
    "### Nhận xét: dùng Transfer Learning từ efficientnet_b0\n",
    "-10 epoch đầu, chỉ unfreeze classifier với mục đích là để model học được cách nhận diện ảnh với feature extraction block cố định. Validation accuracy= ~84% (Save best epoch ở accuracy= 0.8365714285714285)\n",
    "\n",
    "=> weight trên imagenet chưa tối ưu, có thể cải thiện"
   ]
  },
  {
   "cell_type": "code",
   "execution_count": 25,
   "id": "724115a6",
   "metadata": {
    "execution": {
     "iopub.execute_input": "2024-01-21T10:47:36.559092Z",
     "iopub.status.busy": "2024-01-21T10:47:36.558767Z",
     "iopub.status.idle": "2024-01-21T12:43:18.216968Z",
     "shell.execute_reply": "2024-01-21T12:43:18.216031Z"
    },
    "papermill": {
     "duration": 6941.691547,
     "end_time": "2024-01-21T12:43:18.235998",
     "exception": false,
     "start_time": "2024-01-21T10:47:36.544451",
     "status": "completed"
    },
    "tags": []
   },
   "outputs": [
    {
     "name": "stdout",
     "output_type": "stream",
     "text": [
      "begin training process\n"
     ]
    },
    {
     "name": "stderr",
     "output_type": "stream",
     "text": [
      " 10%|█         | 1/10 [11:25<1:42:46, 685.14s/it]"
     ]
    },
    {
     "name": "stdout",
     "output_type": "stream",
     "text": [
      "Epoch 1 / 10 \n",
      " Training loss: 0.26943766616965775 - Other training metrics: \n",
      "{'accuracy_score': 0.9274413658651858, 'f1_score': 0.927585358664559}\n",
      " \n",
      " Validation loss : 0.18142078641482762 - Other validation metrics:\n",
      "{'accuracy_score': 0.9539047619047619, 'f1_score': 0.9529228020656592}\n",
      "\n",
      "\n",
      "Validation accuracy= 0.9539047619047619===> Save best epoch\n"
     ]
    },
    {
     "name": "stderr",
     "output_type": "stream",
     "text": [
      " 20%|██        | 2/10 [22:59<1:32:05, 690.68s/it]"
     ]
    },
    {
     "name": "stdout",
     "output_type": "stream",
     "text": [
      "Epoch 2 / 10 \n",
      " Training loss: 0.1441554370685006 - Other training metrics: \n",
      "{'accuracy_score': 0.9599456489631949, 'f1_score': 0.9599481329654627}\n",
      " \n",
      " Validation loss : 0.16265125668615135 - Other validation metrics:\n",
      "{'accuracy_score': 0.9554285714285714, 'f1_score': 0.9544091569805856}\n",
      "\n",
      "\n",
      "Validation accuracy= 0.9554285714285714===> Save best epoch\n"
     ]
    },
    {
     "name": "stderr",
     "output_type": "stream",
     "text": [
      " 30%|███       | 3/10 [34:52<1:21:45, 700.76s/it]"
     ]
    },
    {
     "name": "stdout",
     "output_type": "stream",
     "text": [
      "Epoch 3 / 10 \n",
      " Training loss: 0.09867657713106556 - Other training metrics: \n",
      "{'accuracy_score': 0.9719146925031016, 'f1_score': 0.9718900300160623}\n",
      " \n",
      " Validation loss : 0.17088631456916864 - Other validation metrics:\n",
      "{'accuracy_score': 0.9565714285714285, 'f1_score': 0.9559185999186}\n",
      "\n",
      "\n",
      "Validation accuracy= 0.9565714285714285===> Save best epoch\n"
     ]
    },
    {
     "name": "stderr",
     "output_type": "stream",
     "text": [
      " 40%|████      | 4/10 [46:07<1:09:02, 690.50s/it]"
     ]
    },
    {
     "name": "stdout",
     "output_type": "stream",
     "text": [
      "Epoch 4 / 10 \n",
      " Training loss: 0.07232356073157979 - Other training metrics: \n",
      "{'accuracy_score': 0.9791457434867372, 'f1_score': 0.9791318051817329}\n",
      " \n",
      " Validation loss : 0.15449519481474444 - Other validation metrics:\n",
      "{'accuracy_score': 0.9592380952380952, 'f1_score': 0.9585683839969555}\n",
      "\n",
      "\n",
      "Validation accuracy= 0.9592380952380952===> Save best epoch\n"
     ]
    },
    {
     "name": "stderr",
     "output_type": "stream",
     "text": [
      " 50%|█████     | 5/10 [57:46<57:48, 693.69s/it]  "
     ]
    },
    {
     "name": "stdout",
     "output_type": "stream",
     "text": [
      "Epoch 5 / 10 \n",
      " Training loss: 0.05473158140002417 - Other training metrics: \n",
      "{'accuracy_score': 0.9844981390677615, 'f1_score': 0.9845507007813051}\n",
      " \n",
      " Validation loss : 0.1537197013483161 - Other validation metrics:\n",
      "{'accuracy_score': 0.96, 'f1_score': 0.9594916617773761}\n",
      "\n",
      "\n",
      "Validation accuracy= 0.96===> Save best epoch\n"
     ]
    },
    {
     "name": "stderr",
     "output_type": "stream",
     "text": [
      " 60%|██████    | 6/10 [1:09:32<46:30, 697.74s/it]"
     ]
    },
    {
     "name": "stdout",
     "output_type": "stream",
     "text": [
      "Epoch 6 / 10 \n",
      " Training loss: 0.047684326723655156 - Other training metrics: \n",
      "{'accuracy_score': 0.9867194423111006, 'f1_score': 0.986720362811503}\n",
      " \n",
      " Validation loss : 0.14797196927666648 - Other validation metrics:\n",
      "{'accuracy_score': 0.9619047619047619, 'f1_score': 0.9610264655978942}\n",
      "\n",
      "\n",
      "Validation accuracy= 0.9619047619047619===> Save best epoch\n"
     ]
    },
    {
     "name": "stderr",
     "output_type": "stream",
     "text": [
      " 70%|███████   | 7/10 [1:21:15<34:59, 699.68s/it]"
     ]
    },
    {
     "name": "stdout",
     "output_type": "stream",
     "text": [
      "Epoch 7 / 10 \n",
      " Training loss: 0.04226592996135092 - Other training metrics: \n",
      "{'accuracy_score': 0.9877946476044189, 'f1_score': 0.9877330308800746}\n",
      " \n",
      " Validation loss : 0.15311689473560822 - Other validation metrics:\n",
      "{'accuracy_score': 0.9565714285714285, 'f1_score': 0.9552330209473067}\n",
      "\n",
      "\n",
      "Validation accuracy= 0.9565714285714285===> No saving\n"
     ]
    },
    {
     "name": "stderr",
     "output_type": "stream",
     "text": [
      " 80%|████████  | 8/10 [1:33:10<23:28, 704.41s/it]"
     ]
    },
    {
     "name": "stdout",
     "output_type": "stream",
     "text": [
      "Epoch 8 / 10 \n",
      " Training loss: 0.03604387393380927 - Other training metrics: \n",
      "{'accuracy_score': 0.9899686890766232, 'f1_score': 0.9899586454585805}\n",
      " \n",
      " Validation loss : 0.1319780410045651 - Other validation metrics:\n",
      "{'accuracy_score': 0.9664761904761905, 'f1_score': 0.9659169930598502}\n",
      "\n",
      "\n",
      "Validation accuracy= 0.9664761904761905===> Save best epoch\n"
     ]
    },
    {
     "name": "stderr",
     "output_type": "stream",
     "text": [
      " 90%|█████████ | 9/10 [1:44:38<11:39, 699.30s/it]"
     ]
    },
    {
     "name": "stdout",
     "output_type": "stream",
     "text": [
      "Epoch 9 / 10 \n",
      " Training loss: 0.03350210360416372 - Other training metrics: \n",
      "{'accuracy_score': 0.9901931824895138, 'f1_score': 0.9902336993066726}\n",
      " \n",
      " Validation loss : 0.13740519412039293 - Other validation metrics:\n",
      "{'accuracy_score': 0.9668571428571429, 'f1_score': 0.9665024393595822}\n",
      "\n",
      "\n",
      "Validation accuracy= 0.9668571428571429===> Save best epoch\n"
     ]
    },
    {
     "name": "stderr",
     "output_type": "stream",
     "text": [
      "100%|██████████| 10/10 [1:55:41<00:00, 694.16s/it]"
     ]
    },
    {
     "name": "stdout",
     "output_type": "stream",
     "text": [
      "Epoch 10 / 10 \n",
      " Training loss: 0.029856514685946873 - Other training metrics: \n",
      "{'accuracy_score': 0.9915755892952088, 'f1_score': 0.9916171117953463}\n",
      " \n",
      " Validation loss : 0.12910669901842872 - Other validation metrics:\n",
      "{'accuracy_score': 0.9687619047619047, 'f1_score': 0.9681766064623207}\n",
      "\n",
      "\n",
      "Validation accuracy= 0.9687619047619047===> Save best epoch\n"
     ]
    },
    {
     "name": "stderr",
     "output_type": "stream",
     "text": [
      "\n"
     ]
    }
   ],
   "source": [
    "for param in model.parameters():\n",
    "    param.requires_grad = True\n",
    "optimizer = torch.optim.Adam(model.parameters(), lr=0.0001, betas=(0.9, 0.999), eps=1e-08, weight_decay=0)\n",
    "\n",
    "model = model.to(device)\n",
    "num_epoch = 10\n",
    "best_val_acc = 0.8528\n",
    "import logging\n",
    "import numpy as np\n",
    "print(\"begin training process\")\n",
    "for i in tqdm(range(0, num_epoch)):\n",
    "    loss, val_loss, train_result, val_result = train_one_epoch(\n",
    "        model,\n",
    "        train_loader,\n",
    "        val_loader,\n",
    "        device,\n",
    "        optimizer,\n",
    "        criterion,\n",
    "        train_metrics,\n",
    "        val_metrics,\n",
    "    )\n",
    "\n",
    "    scheduler.step(val_loss)\n",
    "    print(\n",
    "        \"Epoch {} / {} \\n Training loss: {} - Other training metrics: \".format(\n",
    "            i + 1, num_epoch, loss\n",
    "        )\n",
    "    )\n",
    "    print(train_result)\n",
    "    print(\n",
    "        \" \\n Validation loss : {} - Other validation metrics:\".format(val_loss)\n",
    "    )\n",
    "    print(val_result)\n",
    "    print(\"\\n\")\n",
    "    # saving epoch with best validation accuracy\n",
    "    if best_val_acc < float(val_result[\"accuracy_score\"]):\n",
    "        print(\n",
    "            \"Validation accuracy= \"+\n",
    "            str(val_result[\"accuracy_score\"])+\n",
    "            \"===> Save best epoch\"\n",
    "        )\n",
    "        best_val_acc = val_result[\"accuracy_score\"]\n",
    "        torch.save(\n",
    "            model,\n",
    "            \"./\" +  \"best.pt\"\n",
    "        )\n",
    "    else:\n",
    "        print(\n",
    "            \"Validation accuracy= \"+ str(val_result[\"accuracy_score\"])+ \"===> No saving\"\n",
    "        )\n",
    "        continue"
   ]
  },
  {
   "cell_type": "markdown",
   "id": "c8bb6570",
   "metadata": {
    "papermill": {
     "duration": 0.014851,
     "end_time": "2024-01-21T12:43:18.266262",
     "exception": false,
     "start_time": "2024-01-21T12:43:18.251411",
     "status": "completed"
    },
    "tags": []
   },
   "source": [
    "### Nhận xét:\n",
    "Unfreeze toàn bộ weight và dùng kết quả 10 epoch đầu như là init weight để tiết kiệm thời gian, cho phép model học dc bộ weight tối ưu trên data hiện tại: Validation accuracy= ~97% (Save best epoch ở accuracy= 0.9687619047619047)\n",
    "\n",
    "=> mô hình phù hợp với bộ dữ liệu"
   ]
  },
  {
   "cell_type": "markdown",
   "id": "cf2e7812",
   "metadata": {
    "papermill": {
     "duration": 0.015407,
     "end_time": "2024-01-21T12:43:18.296532",
     "exception": false,
     "start_time": "2024-01-21T12:43:18.281125",
     "status": "completed"
    },
    "tags": []
   },
   "source": [
    "## 7. Test the results"
   ]
  },
  {
   "cell_type": "code",
   "execution_count": 26,
   "id": "302d62cb",
   "metadata": {
    "execution": {
     "iopub.execute_input": "2024-01-21T12:43:18.328630Z",
     "iopub.status.busy": "2024-01-21T12:43:18.327959Z",
     "iopub.status.idle": "2024-01-21T12:43:18.332359Z",
     "shell.execute_reply": "2024-01-21T12:43:18.331518Z"
    },
    "papermill": {
     "duration": 0.022532,
     "end_time": "2024-01-21T12:43:18.334316",
     "exception": false,
     "start_time": "2024-01-21T12:43:18.311784",
     "status": "completed"
    },
    "tags": []
   },
   "outputs": [],
   "source": [
    "from sklearn.metrics import classification_report\n",
    "from sklearn.metrics import confusion_matrix, ConfusionMatrixDisplay"
   ]
  },
  {
   "cell_type": "code",
   "execution_count": 27,
   "id": "46a4e58b",
   "metadata": {
    "execution": {
     "iopub.execute_input": "2024-01-21T12:43:18.366103Z",
     "iopub.status.busy": "2024-01-21T12:43:18.365808Z",
     "iopub.status.idle": "2024-01-21T12:43:18.442319Z",
     "shell.execute_reply": "2024-01-21T12:43:18.441375Z"
    },
    "papermill": {
     "duration": 0.095377,
     "end_time": "2024-01-21T12:43:18.444875",
     "exception": false,
     "start_time": "2024-01-21T12:43:18.349498",
     "status": "completed"
    },
    "tags": []
   },
   "outputs": [],
   "source": [
    "import copy\n",
    "test_model = torch.load(\"/kaggle/working/best.pt\")\n",
    "test_model = test_model.to(device)"
   ]
  },
  {
   "cell_type": "code",
   "execution_count": 28,
   "id": "4b6cae9a",
   "metadata": {
    "execution": {
     "iopub.execute_input": "2024-01-21T12:43:18.477325Z",
     "iopub.status.busy": "2024-01-21T12:43:18.476989Z",
     "iopub.status.idle": "2024-01-21T12:43:18.483596Z",
     "shell.execute_reply": "2024-01-21T12:43:18.482741Z"
    },
    "papermill": {
     "duration": 0.024842,
     "end_time": "2024-01-21T12:43:18.485454",
     "exception": false,
     "start_time": "2024-01-21T12:43:18.460612",
     "status": "completed"
    },
    "tags": []
   },
   "outputs": [],
   "source": [
    "def test_result(model, test_loader, device):\n",
    "    # testing the model by turning model \"Eval\" mode\n",
    "    model.eval()\n",
    "    preds = []\n",
    "    labels = []\n",
    "    with torch.no_grad():\n",
    "        for data, target in test_loader:\n",
    "            # move-tensors-to-GPU\n",
    "            data = data.to(device)\n",
    "            target = target.to(device)\n",
    "            # forward-pass: compute-predicted-outputs-by-passing-inputs-to-the-model\n",
    "            output = model(data)\n",
    "            prob = nn.Softmax(dim=1)\n",
    "            # applying Softmax to results\n",
    "            probs = prob(output)\n",
    "            labels.extend(target.tolist())\n",
    "            preds.extend(torch.argmax(probs, axis=1).tolist())\n",
    "    return labels,preds\n"
   ]
  },
  {
   "cell_type": "code",
   "execution_count": 29,
   "id": "58adcf63",
   "metadata": {
    "execution": {
     "iopub.execute_input": "2024-01-21T12:43:18.517165Z",
     "iopub.status.busy": "2024-01-21T12:43:18.516637Z",
     "iopub.status.idle": "2024-01-21T12:44:00.377926Z",
     "shell.execute_reply": "2024-01-21T12:44:00.377103Z"
    },
    "papermill": {
     "duration": 41.879849,
     "end_time": "2024-01-21T12:44:00.380410",
     "exception": false,
     "start_time": "2024-01-21T12:43:18.500561",
     "status": "completed"
    },
    "tags": []
   },
   "outputs": [],
   "source": [
    "labels,preds =test_result(test_model, test_loader, device)"
   ]
  },
  {
   "cell_type": "code",
   "execution_count": 30,
   "id": "4a64ed3f",
   "metadata": {
    "execution": {
     "iopub.execute_input": "2024-01-21T12:44:00.413367Z",
     "iopub.status.busy": "2024-01-21T12:44:00.413017Z",
     "iopub.status.idle": "2024-01-21T12:44:00.444949Z",
     "shell.execute_reply": "2024-01-21T12:44:00.444006Z"
    },
    "papermill": {
     "duration": 0.050621,
     "end_time": "2024-01-21T12:44:00.446927",
     "exception": false,
     "start_time": "2024-01-21T12:44:00.396306",
     "status": "completed"
    },
    "tags": []
   },
   "outputs": [],
   "source": [
    "report = classification_report(labels, preds, digits=4,target_names=le.classes_)\n",
    "\n",
    "cm = confusion_matrix(labels, preds)"
   ]
  },
  {
   "cell_type": "code",
   "execution_count": 31,
   "id": "de941b07",
   "metadata": {
    "execution": {
     "iopub.execute_input": "2024-01-21T12:44:00.479801Z",
     "iopub.status.busy": "2024-01-21T12:44:00.479441Z",
     "iopub.status.idle": "2024-01-21T12:44:00.484735Z",
     "shell.execute_reply": "2024-01-21T12:44:00.483840Z"
    },
    "papermill": {
     "duration": 0.026394,
     "end_time": "2024-01-21T12:44:00.488793",
     "exception": false,
     "start_time": "2024-01-21T12:44:00.462399",
     "status": "completed"
    },
    "tags": []
   },
   "outputs": [
    {
     "name": "stdout",
     "output_type": "stream",
     "text": [
      "                               precision    recall  f1-score   support\n",
      "\n",
      "              ABBOTTS BABBLER     1.0000    1.0000    1.0000         5\n",
      "                ABBOTTS BOOBY     1.0000    0.8000    0.8889         5\n",
      "   ABYSSINIAN GROUND HORNBILL     1.0000    1.0000    1.0000         5\n",
      "        AFRICAN CROWNED CRANE     1.0000    1.0000    1.0000         5\n",
      "       AFRICAN EMERALD CUCKOO     1.0000    1.0000    1.0000         5\n",
      "            AFRICAN FIREFINCH     1.0000    1.0000    1.0000         5\n",
      "       AFRICAN OYSTER CATCHER     1.0000    1.0000    1.0000         5\n",
      "        AFRICAN PIED HORNBILL     1.0000    1.0000    1.0000         5\n",
      "          AFRICAN PYGMY GOOSE     1.0000    1.0000    1.0000         5\n",
      "                    ALBATROSS     1.0000    1.0000    1.0000         5\n",
      "               ALBERTS TOWHEE     1.0000    1.0000    1.0000         5\n",
      "         ALEXANDRINE PARAKEET     1.0000    1.0000    1.0000         5\n",
      "                ALPINE CHOUGH     0.8333    1.0000    0.9091         5\n",
      "        ALTAMIRA YELLOWTHROAT     1.0000    0.6000    0.7500         5\n",
      "              AMERICAN AVOCET     1.0000    1.0000    1.0000         5\n",
      "             AMERICAN BITTERN     1.0000    1.0000    1.0000         5\n",
      "                AMERICAN COOT     1.0000    1.0000    1.0000         5\n",
      "              AMERICAN DIPPER     1.0000    1.0000    1.0000         5\n",
      "            AMERICAN FLAMINGO     1.0000    1.0000    1.0000         5\n",
      "           AMERICAN GOLDFINCH     1.0000    1.0000    1.0000         5\n",
      "             AMERICAN KESTREL     1.0000    1.0000    1.0000         5\n",
      "               AMERICAN PIPIT     1.0000    1.0000    1.0000         5\n",
      "            AMERICAN REDSTART     1.0000    0.8000    0.8889         5\n",
      "               AMERICAN ROBIN     1.0000    1.0000    1.0000         5\n",
      "              AMERICAN WIGEON     0.8333    1.0000    0.9091         5\n",
      "            AMETHYST WOODSTAR     1.0000    1.0000    1.0000         5\n",
      "                 ANDEAN GOOSE     1.0000    1.0000    1.0000         5\n",
      "               ANDEAN LAPWING     1.0000    1.0000    1.0000         5\n",
      "                ANDEAN SISKIN     1.0000    1.0000    1.0000         5\n",
      "                      ANHINGA     1.0000    1.0000    1.0000         5\n",
      "                     ANIANIAU     1.0000    1.0000    1.0000         5\n",
      "            ANNAS HUMMINGBIRD     1.0000    1.0000    1.0000         5\n",
      "                      ANTBIRD     1.0000    1.0000    1.0000         5\n",
      "           ANTILLEAN EUPHONIA     1.0000    1.0000    1.0000         5\n",
      "                      APAPANE     1.0000    1.0000    1.0000         5\n",
      "                  APOSTLEBIRD     1.0000    1.0000    1.0000         5\n",
      "              ARARIPE MANAKIN     1.0000    1.0000    1.0000         5\n",
      "            ASHY STORM PETREL     1.0000    0.8000    0.8889         5\n",
      "              ASHY THRUSHBIRD     1.0000    1.0000    1.0000         5\n",
      "           ASIAN CRESTED IBIS     1.0000    1.0000    1.0000         5\n",
      "           ASIAN DOLLARD BIRD     1.0000    1.0000    1.0000         5\n",
      "        ASIAN GREEN BEE EATER     1.0000    1.0000    1.0000         5\n",
      "         ASIAN OPENBILL STORK     1.0000    1.0000    1.0000         5\n",
      "                AUCKLAND SHAQ     0.8000    0.8000    0.8000         5\n",
      "            AUSTRAL CANASTERO     1.0000    0.6000    0.7500         5\n",
      "         AUSTRALASIAN FIGBIRD     0.8333    1.0000    0.9091         5\n",
      "                     AVADAVAT     0.8000    0.8000    0.8000         5\n",
      "             AZARAS SPINETAIL     0.8333    1.0000    0.9091         5\n",
      "         AZURE BREASTED PITTA     1.0000    1.0000    1.0000         5\n",
      "                    AZURE JAY     1.0000    1.0000    1.0000         5\n",
      "                AZURE TANAGER     1.0000    1.0000    1.0000         5\n",
      "                    AZURE TIT     1.0000    1.0000    1.0000         5\n",
      "                  BAIKAL TEAL     1.0000    1.0000    1.0000         5\n",
      "                   BALD EAGLE     1.0000    1.0000    1.0000         5\n",
      "                    BALD IBIS     1.0000    1.0000    1.0000         5\n",
      "                BALI STARLING     1.0000    1.0000    1.0000         5\n",
      "             BALTIMORE ORIOLE     1.0000    0.8000    0.8889         5\n",
      "                   BANANAQUIT     1.0000    1.0000    1.0000         5\n",
      "             BAND TAILED GUAN     1.0000    1.0000    1.0000         5\n",
      "             BANDED BROADBILL     1.0000    1.0000    1.0000         5\n",
      "                  BANDED PITA     1.0000    1.0000    1.0000         5\n",
      "                 BANDED STILT     0.8333    1.0000    0.9091         5\n",
      "            BAR-TAILED GODWIT     1.0000    1.0000    1.0000         5\n",
      "                     BARN OWL     1.0000    1.0000    1.0000         5\n",
      "                 BARN SWALLOW     1.0000    1.0000    1.0000         5\n",
      "              BARRED PUFFBIRD     1.0000    1.0000    1.0000         5\n",
      "            BARROWS GOLDENEYE     1.0000    1.0000    1.0000         5\n",
      "         BAY-BREASTED WARBLER     1.0000    1.0000    1.0000         5\n",
      "               BEARDED BARBET     1.0000    1.0000    1.0000         5\n",
      "             BEARDED BELLBIRD     1.0000    1.0000    1.0000         5\n",
      "             BEARDED REEDLING     1.0000    1.0000    1.0000         5\n",
      "            BELTED KINGFISHER     1.0000    1.0000    1.0000         5\n",
      "             BIRD OF PARADISE     1.0000    1.0000    1.0000         5\n",
      "   BLACK AND YELLOW BROADBILL     1.0000    1.0000    1.0000         5\n",
      "                   BLACK BAZA     1.0000    1.0000    1.0000         5\n",
      "      BLACK BREASTED PUFFBIRD     1.0000    1.0000    1.0000         5\n",
      "                BLACK COCKATO     1.0000    1.0000    1.0000         5\n",
      "        BLACK FACED SPOONBILL     1.0000    1.0000    1.0000         5\n",
      "              BLACK FRANCOLIN     1.0000    1.0000    1.0000         5\n",
      "          BLACK HEADED CAIQUE     1.0000    1.0000    1.0000         5\n",
      "           BLACK NECKED STILT     1.0000    0.8000    0.8889         5\n",
      "                BLACK SKIMMER     1.0000    1.0000    1.0000         5\n",
      "                   BLACK SWAN     1.0000    1.0000    1.0000         5\n",
      "             BLACK TAIL CRAKE     1.0000    1.0000    1.0000         5\n",
      "       BLACK THROATED BUSHTIT     1.0000    1.0000    1.0000         5\n",
      "          BLACK THROATED HUET     1.0000    1.0000    1.0000         5\n",
      "       BLACK THROATED WARBLER     1.0000    1.0000    1.0000         5\n",
      "      BLACK VENTED SHEARWATER     1.0000    1.0000    1.0000         5\n",
      "                BLACK VULTURE     1.0000    1.0000    1.0000         5\n",
      "       BLACK-CAPPED CHICKADEE     1.0000    1.0000    1.0000         5\n",
      "           BLACK-NECKED GREBE     1.0000    1.0000    1.0000         5\n",
      "       BLACK-THROATED SPARROW     1.0000    1.0000    1.0000         5\n",
      "         BLACKBURNIAM WARBLER     1.0000    1.0000    1.0000         5\n",
      "    BLONDE CRESTED WOODPECKER     1.0000    1.0000    1.0000         5\n",
      "               BLOOD PHEASANT     1.0000    1.0000    1.0000         5\n",
      "                    BLUE COAU     0.8333    1.0000    0.9091         5\n",
      "                  BLUE DACNIS     1.0000    1.0000    1.0000         5\n",
      "        BLUE GRAY GNATCATCHER     1.0000    0.8000    0.8889         5\n",
      "                BLUE GROSBEAK     1.0000    1.0000    1.0000         5\n",
      "                  BLUE GROUSE     1.0000    1.0000    1.0000         5\n",
      "                   BLUE HERON     1.0000    1.0000    1.0000         5\n",
      "                 BLUE MALKOHA     1.0000    1.0000    1.0000         5\n",
      "    BLUE THROATED PIPING GUAN     1.0000    1.0000    1.0000         5\n",
      "       BLUE THROATED TOUCANET     1.0000    1.0000    1.0000         5\n",
      "                     BOBOLINK     1.0000    1.0000    1.0000         5\n",
      "          BORNEAN BRISTLEHEAD     1.0000    1.0000    1.0000         5\n",
      "             BORNEAN LEAFBIRD     1.0000    1.0000    1.0000         5\n",
      "             BORNEAN PHEASANT     1.0000    1.0000    1.0000         5\n",
      "             BRANDT CORMARANT     1.0000    1.0000    1.0000         5\n",
      "            BREWERS BLACKBIRD     0.8333    1.0000    0.9091         5\n",
      "                BROWN CREPPER     1.0000    0.8000    0.8889         5\n",
      "         BROWN HEADED COWBIRD     1.0000    1.0000    1.0000         5\n",
      "                  BROWN NOODY     1.0000    1.0000    1.0000         5\n",
      "               BROWN THRASHER     1.0000    1.0000    1.0000         5\n",
      "                   BUFFLEHEAD     1.0000    1.0000    1.0000         5\n",
      "             BULWERS PHEASANT     1.0000    1.0000    1.0000         5\n",
      "            BURCHELLS COURSER     1.0000    1.0000    1.0000         5\n",
      "                  BUSH TURKEY     1.0000    1.0000    1.0000         5\n",
      "           CAATINGA CACHOLOTE     1.0000    1.0000    1.0000         5\n",
      "              CABOTS TRAGOPAN     0.8333    1.0000    0.9091         5\n",
      "                  CACTUS WREN     1.0000    1.0000    1.0000         5\n",
      "            CALIFORNIA CONDOR     1.0000    1.0000    1.0000         5\n",
      "              CALIFORNIA GULL     1.0000    1.0000    1.0000         5\n",
      "             CALIFORNIA QUAIL     1.0000    1.0000    1.0000         5\n",
      "                CAMPO FLICKER     1.0000    1.0000    1.0000         5\n",
      "                       CANARY     1.0000    1.0000    1.0000         5\n",
      "                   CANVASBACK     1.0000    1.0000    1.0000         5\n",
      "         CAPE GLOSSY STARLING     1.0000    1.0000    1.0000         5\n",
      "                CAPE LONGCLAW     1.0000    1.0000    1.0000         5\n",
      "             CAPE MAY WARBLER     0.8333    1.0000    0.9091         5\n",
      "             CAPE ROCK THRUSH     1.0000    1.0000    1.0000         5\n",
      "                 CAPPED HERON     1.0000    1.0000    1.0000         5\n",
      "                 CAPUCHINBIRD     1.0000    1.0000    1.0000         5\n",
      "            CARMINE BEE-EATER     1.0000    1.0000    1.0000         5\n",
      "                 CASPIAN TERN     1.0000    1.0000    1.0000         5\n",
      "                    CASSOWARY     1.0000    1.0000    1.0000         5\n",
      "                CEDAR WAXWING     1.0000    1.0000    1.0000         5\n",
      "             CERULEAN WARBLER     1.0000    1.0000    1.0000         5\n",
      "              CHARA DE COLLAR     1.0000    1.0000    1.0000         5\n",
      "              CHATTERING LORY     1.0000    1.0000    1.0000         5\n",
      "    CHESTNET BELLIED EUPHONIA     1.0000    1.0000    1.0000         5\n",
      "       CHESTNUT WINGED CUCKOO     1.0000    1.0000    1.0000         5\n",
      "     CHINESE BAMBOO PARTRIDGE     1.0000    1.0000    1.0000         5\n",
      "           CHINESE POND HERON     1.0000    1.0000    1.0000         5\n",
      "             CHIPPING SPARROW     1.0000    1.0000    1.0000         5\n",
      "              CHUCAO TAPACULO     1.0000    1.0000    1.0000         5\n",
      "             CHUKAR PARTRIDGE     1.0000    1.0000    1.0000         5\n",
      "              CINNAMON ATTILA     0.8333    1.0000    0.9091         5\n",
      "          CINNAMON FLYCATCHER     1.0000    0.8000    0.8889         5\n",
      "                CINNAMON TEAL     1.0000    1.0000    1.0000         5\n",
      "                 CLARKS GREBE     1.0000    1.0000    1.0000         5\n",
      "            CLARKS NUTCRACKER     1.0000    1.0000    1.0000         5\n",
      "            COCK OF THE  ROCK     1.0000    1.0000    1.0000         5\n",
      "                     COCKATOO     1.0000    1.0000    1.0000         5\n",
      "             COLLARED ARACARI     1.0000    1.0000    1.0000         5\n",
      "       COLLARED CRESCENTCHEST     1.0000    1.0000    1.0000         5\n",
      "             COMMON FIRECREST     1.0000    1.0000    1.0000         5\n",
      "               COMMON GRACKLE     1.0000    1.0000    1.0000         5\n",
      "          COMMON HOUSE MARTIN     1.0000    1.0000    1.0000         5\n",
      "                  COMMON IORA     1.0000    1.0000    1.0000         5\n",
      "                  COMMON LOON     1.0000    1.0000    1.0000         5\n",
      "              COMMON POORWILL     1.0000    1.0000    1.0000         5\n",
      "              COMMON STARLING     1.0000    1.0000    1.0000         5\n",
      "           COPPERSMITH BARBET     1.0000    1.0000    1.0000         5\n",
      "        COPPERY TAILED COUCAL     0.8333    1.0000    0.9091         5\n",
      "                  CRAB PLOVER     1.0000    1.0000    1.0000         5\n",
      "                   CRANE HAWK     1.0000    1.0000    1.0000         5\n",
      "     CREAM COLORED WOODPECKER     1.0000    1.0000    1.0000         5\n",
      "               CRESTED AUKLET     1.0000    1.0000    1.0000         5\n",
      "             CRESTED CARACARA     1.0000    1.0000    1.0000         5\n",
      "                 CRESTED COUA     1.0000    0.8000    0.8889         5\n",
      "             CRESTED FIREBACK     1.0000    1.0000    1.0000         5\n",
      "           CRESTED KINGFISHER     1.0000    1.0000    1.0000         5\n",
      "             CRESTED NUTHATCH     1.0000    1.0000    1.0000         5\n",
      "           CRESTED OROPENDOLA     1.0000    1.0000    1.0000         5\n",
      "        CRESTED SERPENT EAGLE     1.0000    0.6000    0.7500         5\n",
      "            CRESTED SHRIKETIT     1.0000    1.0000    1.0000         5\n",
      "       CRESTED WOOD PARTRIDGE     1.0000    1.0000    1.0000         5\n",
      "                 CRIMSON CHAT     1.0000    1.0000    1.0000         5\n",
      "              CRIMSON SUNBIRD     1.0000    0.8000    0.8889         5\n",
      "                         CROW     0.8333    1.0000    0.9091         5\n",
      "                   CUBAN TODY     1.0000    1.0000    1.0000         5\n",
      "                 CUBAN TROGON     1.0000    1.0000    1.0000         5\n",
      "         CURL CRESTED ARACURI     1.0000    1.0000    1.0000         5\n",
      "             D-ARNAUDS BARBET     1.0000    1.0000    1.0000         5\n",
      "            DALMATIAN PELICAN     1.0000    1.0000    1.0000         5\n",
      "        DARJEELING WOODPECKER     1.0000    1.0000    1.0000         5\n",
      "              DARK EYED JUNCO     1.0000    1.0000    1.0000         5\n",
      "             DAURIAN REDSTART     1.0000    1.0000    1.0000         5\n",
      "             DEMOISELLE CRANE     1.0000    1.0000    1.0000         5\n",
      "          DOUBLE BARRED FINCH     1.0000    1.0000    1.0000         5\n",
      "     DOUBLE BRESTED CORMARANT     1.0000    1.0000    1.0000         5\n",
      "       DOUBLE EYED FIG PARROT     1.0000    1.0000    1.0000         5\n",
      "             DOWNY WOODPECKER     1.0000    1.0000    1.0000         5\n",
      "                       DUNLIN     1.0000    1.0000    1.0000         5\n",
      "                   DUSKY LORY     1.0000    1.0000    1.0000         5\n",
      "                  DUSKY ROBIN     1.0000    0.8000    0.8889         5\n",
      "                   EARED PITA     1.0000    1.0000    1.0000         5\n",
      "             EASTERN BLUEBIRD     1.0000    1.0000    1.0000         5\n",
      "           EASTERN BLUEBONNET     1.0000    1.0000    1.0000         5\n",
      "        EASTERN GOLDEN WEAVER     1.0000    1.0000    1.0000         5\n",
      "           EASTERN MEADOWLARK     1.0000    1.0000    1.0000         5\n",
      "              EASTERN ROSELLA     1.0000    1.0000    1.0000         5\n",
      "                EASTERN TOWEE     1.0000    1.0000    1.0000         5\n",
      "        EASTERN WIP POOR WILL     1.0000    0.8000    0.8889         5\n",
      "         EASTERN YELLOW ROBIN     0.8333    1.0000    0.9091         5\n",
      "          ECUADORIAN HILLSTAR     1.0000    1.0000    1.0000         5\n",
      "               EGYPTIAN GOOSE     1.0000    1.0000    1.0000         5\n",
      "               ELEGANT TROGON     1.0000    1.0000    1.0000         5\n",
      "            ELLIOTS  PHEASANT     1.0000    1.0000    1.0000         5\n",
      "              EMERALD TANAGER     1.0000    1.0000    1.0000         5\n",
      "              EMPEROR PENGUIN     1.0000    1.0000    1.0000         5\n",
      "                          EMU     1.0000    1.0000    1.0000         5\n",
      "                 ENGGANO MYNA     1.0000    1.0000    1.0000         5\n",
      "           EURASIAN BULLFINCH     1.0000    0.8000    0.8889         5\n",
      "       EURASIAN GOLDEN ORIOLE     1.0000    1.0000    1.0000         5\n",
      "              EURASIAN MAGPIE     1.0000    1.0000    1.0000         5\n",
      "           EUROPEAN GOLDFINCH     1.0000    1.0000    1.0000         5\n",
      "         EUROPEAN TURTLE DOVE     1.0000    1.0000    1.0000         5\n",
      "             EVENING GROSBEAK     1.0000    1.0000    1.0000         5\n",
      "               FAIRY BLUEBIRD     1.0000    1.0000    1.0000         5\n",
      "                FAIRY PENGUIN     1.0000    1.0000    1.0000         5\n",
      "                   FAIRY TERN     1.0000    1.0000    1.0000         5\n",
      "             FAN TAILED WIDOW     0.8333    1.0000    0.9091         5\n",
      "               FASCIATED WREN     1.0000    1.0000    1.0000         5\n",
      "                FIERY MINIVET     1.0000    1.0000    1.0000         5\n",
      "            FIORDLAND PENGUIN     1.0000    1.0000    1.0000         5\n",
      "        FIRE TAILLED MYZORNIS     1.0000    1.0000    1.0000         5\n",
      "              FLAME BOWERBIRD     1.0000    1.0000    1.0000         5\n",
      "                FLAME TANAGER     1.0000    1.0000    1.0000         5\n",
      "               FOREST WAGTAIL     1.0000    1.0000    1.0000         5\n",
      "                      FRIGATE     1.0000    1.0000    1.0000         5\n",
      "            FRILL BACK PIGEON     1.0000    1.0000    1.0000         5\n",
      "                GAMBELS QUAIL     1.0000    1.0000    1.0000         5\n",
      "           GANG GANG COCKATOO     1.0000    1.0000    1.0000         5\n",
      "              GILA WOODPECKER     1.0000    1.0000    1.0000         5\n",
      "               GILDED FLICKER     1.0000    0.8000    0.8889         5\n",
      "                  GLOSSY IBIS     1.0000    1.0000    1.0000         5\n",
      "                 GO AWAY BIRD     1.0000    1.0000    1.0000         5\n",
      "            GOLD WING WARBLER     1.0000    1.0000    1.0000         5\n",
      "            GOLDEN BOWER BIRD     1.0000    1.0000    1.0000         5\n",
      "       GOLDEN CHEEKED WARBLER     1.0000    1.0000    1.0000         5\n",
      "          GOLDEN CHLOROPHONIA     1.0000    1.0000    1.0000         5\n",
      "                 GOLDEN EAGLE     1.0000    1.0000    1.0000         5\n",
      "              GOLDEN PARAKEET     1.0000    1.0000    1.0000         5\n",
      "              GOLDEN PHEASANT     1.0000    1.0000    1.0000         5\n",
      "                 GOLDEN PIPIT     1.0000    1.0000    1.0000         5\n",
      "               GOULDIAN FINCH     1.0000    1.0000    1.0000         5\n",
      "                     GRANDALA     1.0000    1.0000    1.0000         5\n",
      "                 GRAY CATBIRD     0.8333    1.0000    0.9091         5\n",
      "                GRAY KINGBIRD     1.0000    1.0000    1.0000         5\n",
      "               GRAY PARTRIDGE     1.0000    0.8000    0.8889         5\n",
      "                  GREAT ARGUS     1.0000    1.0000    1.0000         5\n",
      "               GREAT GRAY OWL     1.0000    1.0000    1.0000         5\n",
      "                GREAT JACAMAR     1.0000    1.0000    1.0000         5\n",
      "               GREAT KISKADEE     0.8333    1.0000    0.9091         5\n",
      "                  GREAT POTOO     0.8333    1.0000    0.9091         5\n",
      "                GREAT TINAMOU     0.8333    1.0000    0.9091         5\n",
      "                 GREAT XENOPS     0.8333    1.0000    0.9091         5\n",
      "                GREATER PEWEE     1.0000    1.0000    1.0000         5\n",
      "      GREATER PRAIRIE CHICKEN     1.0000    1.0000    1.0000         5\n",
      "          GREATOR SAGE GROUSE     1.0000    1.0000    1.0000         5\n",
      "              GREEN BROADBILL     1.0000    1.0000    1.0000         5\n",
      "                    GREEN JAY     1.0000    1.0000    1.0000         5\n",
      "                 GREEN MAGPIE     1.0000    1.0000    1.0000         5\n",
      "            GREEN WINGED DOVE     1.0000    1.0000    1.0000         5\n",
      "            GREY CUCKOOSHRIKE     1.0000    0.8000    0.8889         5\n",
      "       GREY HEADED CHACHALACA     1.0000    1.0000    1.0000         5\n",
      "       GREY HEADED FISH EAGLE     1.0000    1.0000    1.0000         5\n",
      "                  GREY PLOVER     1.0000    1.0000    1.0000         5\n",
      "            GROVED BILLED ANI     1.0000    1.0000    1.0000         5\n",
      "                GUINEA TURACO     0.8333    1.0000    0.9091         5\n",
      "                   GUINEAFOWL     1.0000    1.0000    1.0000         5\n",
      "                GURNEYS PITTA     1.0000    1.0000    1.0000         5\n",
      "                    GYRFALCON     1.0000    1.0000    1.0000         5\n",
      "                     HAMERKOP     1.0000    1.0000    1.0000         5\n",
      "               HARLEQUIN DUCK     1.0000    1.0000    1.0000         5\n",
      "              HARLEQUIN QUAIL     1.0000    1.0000    1.0000         5\n",
      "                  HARPY EAGLE     1.0000    1.0000    1.0000         5\n",
      "               HAWAIIAN GOOSE     1.0000    1.0000    1.0000         5\n",
      "                     HAWFINCH     1.0000    1.0000    1.0000         5\n",
      "                 HELMET VANGA     1.0000    1.0000    1.0000         5\n",
      "              HEPATIC TANAGER     1.0000    1.0000    1.0000         5\n",
      "           HIMALAYAN BLUETAIL     1.0000    1.0000    1.0000         5\n",
      "              HIMALAYAN MONAL     1.0000    1.0000    1.0000         5\n",
      "                      HOATZIN     1.0000    1.0000    1.0000         5\n",
      "             HOODED MERGANSER     1.0000    1.0000    1.0000         5\n",
      "                      HOOPOES     1.0000    1.0000    1.0000         5\n",
      "                  HORNED GUAN     1.0000    1.0000    1.0000         5\n",
      "                  HORNED LARK     1.0000    1.0000    1.0000         5\n",
      "                HORNED SUNGEM     1.0000    1.0000    1.0000         5\n",
      "                  HOUSE FINCH     1.0000    1.0000    1.0000         5\n",
      "                HOUSE SPARROW     1.0000    1.0000    1.0000         5\n",
      "               HYACINTH MACAW     1.0000    1.0000    1.0000         5\n",
      "               IBERIAN MAGPIE     0.8333    1.0000    0.9091         5\n",
      "                     IBISBILL     1.0000    1.0000    1.0000         5\n",
      "                IMPERIAL SHAQ     0.8000    0.8000    0.8000         5\n",
      "                    INCA TERN     1.0000    1.0000    1.0000         5\n",
      "               INDIAN BUSTARD     1.0000    1.0000    1.0000         5\n",
      "                 INDIAN PITTA     1.0000    1.0000    1.0000         5\n",
      "                INDIAN ROLLER     1.0000    1.0000    1.0000         5\n",
      "               INDIAN VULTURE     1.0000    1.0000    1.0000         5\n",
      "               INDIGO BUNTING     1.0000    1.0000    1.0000         5\n",
      "            INDIGO FLYCATCHER     1.0000    1.0000    1.0000         5\n",
      "              INLAND DOTTEREL     1.0000    0.8000    0.8889         5\n",
      "         IVORY BILLED ARACARI     1.0000    1.0000    1.0000         5\n",
      "                   IVORY GULL     0.8333    1.0000    0.9091         5\n",
      "                          IWI     1.0000    1.0000    1.0000         5\n",
      "                       JABIRU     1.0000    1.0000    1.0000         5\n",
      "                   JACK SNIPE     1.0000    1.0000    1.0000         5\n",
      "               JACOBIN PIGEON     1.0000    1.0000    1.0000         5\n",
      "             JANDAYA PARAKEET     1.0000    1.0000    1.0000         5\n",
      "               JAPANESE ROBIN     1.0000    1.0000    1.0000         5\n",
      "                 JAVA SPARROW     1.0000    1.0000    1.0000         5\n",
      "            JOCOTOCO ANTPITTA     1.0000    1.0000    1.0000         5\n",
      "                         KAGU     1.0000    1.0000    1.0000         5\n",
      "                       KAKAPO     1.0000    1.0000    1.0000         5\n",
      "                     KILLDEAR     1.0000    1.0000    1.0000         5\n",
      "                   KING EIDER     1.0000    1.0000    1.0000         5\n",
      "                 KING VULTURE     1.0000    1.0000    1.0000         5\n",
      "                         KIWI     1.0000    1.0000    1.0000         5\n",
      "             KNOB BILLED DUCK     1.0000    1.0000    1.0000         5\n",
      "                   KOOKABURRA     1.0000    1.0000    1.0000         5\n",
      "                 LARK BUNTING     0.8333    1.0000    0.9091         5\n",
      "                LAUGHING GULL     1.0000    1.0000    1.0000         5\n",
      "               LAZULI BUNTING     1.0000    1.0000    1.0000         5\n",
      "              LESSER ADJUTANT     1.0000    1.0000    1.0000         5\n",
      "                 LILAC ROLLER     1.0000    1.0000    1.0000         5\n",
      "                      LIMPKIN     1.0000    1.0000    1.0000         5\n",
      "                   LITTLE AUK     1.0000    1.0000    1.0000         5\n",
      "            LOGGERHEAD SHRIKE     1.0000    0.8000    0.8889         5\n",
      "               LONG-EARED OWL     1.0000    1.0000    1.0000         5\n",
      "                 LOONEY BIRDS     1.0000    1.0000    1.0000         5\n",
      "          LUCIFER HUMMINGBIRD     1.0000    1.0000    1.0000         5\n",
      "                 MAGPIE GOOSE     1.0000    1.0000    1.0000         5\n",
      "             MALABAR HORNBILL     1.0000    1.0000    1.0000         5\n",
      "         MALACHITE KINGFISHER     1.0000    0.8000    0.8889         5\n",
      "           MALAGASY WHITE EYE     0.8333    1.0000    0.9091         5\n",
      "                        MALEO     1.0000    1.0000    1.0000         5\n",
      "                 MALLARD DUCK     1.0000    1.0000    1.0000         5\n",
      "                 MANDRIN DUCK     1.0000    1.0000    1.0000         5\n",
      "              MANGROVE CUCKOO     1.0000    1.0000    1.0000         5\n",
      "                MARABOU STORK     1.0000    1.0000    1.0000         5\n",
      "              MASKED BOBWHITE     1.0000    0.6000    0.7500         5\n",
      "                 MASKED BOOBY     0.8333    1.0000    0.9091         5\n",
      "               MASKED LAPWING     1.0000    1.0000    1.0000         5\n",
      "               MCKAYS BUNTING     1.0000    0.8000    0.8889         5\n",
      "                       MERLIN     1.0000    1.0000    1.0000         5\n",
      "             MIKADO  PHEASANT     1.0000    1.0000    1.0000         5\n",
      "               MILITARY MACAW     1.0000    1.0000    1.0000         5\n",
      "                MOURNING DOVE     1.0000    1.0000    1.0000         5\n",
      "                         MYNA     1.0000    1.0000    1.0000         5\n",
      "               NICOBAR PIGEON     1.0000    1.0000    1.0000         5\n",
      "              NOISY FRIARBIRD     1.0000    1.0000    1.0000         5\n",
      "NORTHERN BEARDLESS TYRANNULET     1.0000    1.0000    1.0000         5\n",
      "            NORTHERN CARDINAL     1.0000    1.0000    1.0000         5\n",
      "             NORTHERN FLICKER     0.8333    1.0000    0.9091         5\n",
      "              NORTHERN FULMAR     1.0000    0.8000    0.8889         5\n",
      "              NORTHERN GANNET     1.0000    1.0000    1.0000         5\n",
      "             NORTHERN GOSHAWK     0.8333    1.0000    0.9091         5\n",
      "              NORTHERN JACANA     1.0000    1.0000    1.0000         5\n",
      "         NORTHERN MOCKINGBIRD     1.0000    1.0000    1.0000         5\n",
      "              NORTHERN PARULA     1.0000    1.0000    1.0000         5\n",
      "          NORTHERN RED BISHOP     1.0000    1.0000    1.0000         5\n",
      "            NORTHERN SHOVELER     1.0000    1.0000    1.0000         5\n",
      "             OCELLATED TURKEY     1.0000    1.0000    1.0000         5\n",
      "                      OILBIRD     1.0000    1.0000    1.0000         5\n",
      "                 OKINAWA RAIL     1.0000    1.0000    1.0000         5\n",
      "       ORANGE BREASTED TROGON     1.0000    1.0000    1.0000         5\n",
      "       ORANGE BRESTED BUNTING     1.0000    1.0000    1.0000         5\n",
      "             ORIENTAL BAY OWL     1.0000    1.0000    1.0000         5\n",
      "            ORNATE HAWK EAGLE     1.0000    1.0000    1.0000         5\n",
      "                       OSPREY     1.0000    1.0000    1.0000         5\n",
      "                      OSTRICH     1.0000    1.0000    1.0000         5\n",
      "                     OVENBIRD     1.0000    1.0000    1.0000         5\n",
      "               OYSTER CATCHER     1.0000    1.0000    1.0000         5\n",
      "              PAINTED BUNTING     1.0000    1.0000    1.0000         5\n",
      "                       PALILA     1.0000    1.0000    1.0000         5\n",
      "             PALM NUT VULTURE     1.0000    1.0000    1.0000         5\n",
      "             PARADISE TANAGER     1.0000    1.0000    1.0000         5\n",
      "              PARAKETT AUKLET     1.0000    1.0000    1.0000         5\n",
      "                  PARUS MAJOR     1.0000    1.0000    1.0000         5\n",
      "      PATAGONIAN SIERRA FINCH     1.0000    1.0000    1.0000         5\n",
      "                      PEACOCK     1.0000    1.0000    1.0000         5\n",
      "             PEREGRINE FALCON     1.0000    1.0000    1.0000         5\n",
      "                  PHAINOPEPLA     1.0000    1.0000    1.0000         5\n",
      "             PHILIPPINE EAGLE     1.0000    1.0000    1.0000         5\n",
      "                   PINK ROBIN     1.0000    1.0000    1.0000         5\n",
      "            PLUSH CRESTED JAY     1.0000    1.0000    1.0000         5\n",
      "              POMARINE JAEGER     0.8333    1.0000    0.9091         5\n",
      "                       PUFFIN     1.0000    1.0000    1.0000         5\n",
      "                    PUNA TEAL     1.0000    1.0000    1.0000         5\n",
      "                 PURPLE FINCH     1.0000    1.0000    1.0000         5\n",
      "             PURPLE GALLINULE     1.0000    1.0000    1.0000         5\n",
      "                PURPLE MARTIN     1.0000    1.0000    1.0000         5\n",
      "              PURPLE SWAMPHEN     1.0000    1.0000    1.0000         5\n",
      "             PYGMY KINGFISHER     0.8000    0.8000    0.8000         5\n",
      "                  PYRRHULOXIA     1.0000    1.0000    1.0000         5\n",
      "                      QUETZAL     1.0000    1.0000    1.0000         5\n",
      "             RAINBOW LORIKEET     1.0000    1.0000    1.0000         5\n",
      "                    RAZORBILL     0.8333    1.0000    0.9091         5\n",
      "        RED BEARDED BEE EATER     1.0000    1.0000    1.0000         5\n",
      "            RED BELLIED PITTA     1.0000    1.0000    1.0000         5\n",
      "        RED BILLED TROPICBIRD     1.0000    1.0000    1.0000         5\n",
      "             RED BROWED FINCH     1.0000    1.0000    1.0000         5\n",
      "                RED CROSSBILL     1.0000    1.0000    1.0000         5\n",
      "          RED FACED CORMORANT     1.0000    1.0000    1.0000         5\n",
      "            RED FACED WARBLER     1.0000    1.0000    1.0000         5\n",
      "                     RED FODY     1.0000    1.0000    1.0000         5\n",
      "              RED HEADED DUCK     1.0000    1.0000    1.0000         5\n",
      "        RED HEADED WOODPECKER     1.0000    1.0000    1.0000         5\n",
      "                     RED KNOT     0.8333    1.0000    0.9091         5\n",
      "      RED LEGGED HONEYCREEPER     1.0000    1.0000    1.0000         5\n",
      "             RED NAPED TROGON     1.0000    1.0000    1.0000         5\n",
      "          RED SHOULDERED HAWK     1.0000    1.0000    1.0000         5\n",
      "              RED TAILED HAWK     1.0000    1.0000    1.0000         5\n",
      "            RED TAILED THRUSH     1.0000    1.0000    1.0000         5\n",
      "         RED WINGED BLACKBIRD     1.0000    1.0000    1.0000         5\n",
      "          RED WISKERED BULBUL     1.0000    1.0000    1.0000         5\n",
      "             REGENT BOWERBIRD     1.0000    1.0000    1.0000         5\n",
      "         RING-NECKED PHEASANT     0.8333    1.0000    0.9091         5\n",
      "                   ROADRUNNER     1.0000    1.0000    1.0000         5\n",
      "                    ROCK DOVE     1.0000    1.0000    1.0000         5\n",
      "       ROSE BREASTED COCKATOO     1.0000    1.0000    1.0000         5\n",
      "       ROSE BREASTED GROSBEAK     1.0000    1.0000    1.0000         5\n",
      "            ROSEATE SPOONBILL     1.0000    1.0000    1.0000         5\n",
      "          ROSY FACED LOVEBIRD     1.0000    1.0000    1.0000         5\n",
      "            ROUGH LEG BUZZARD     0.8333    1.0000    0.9091         5\n",
      "             ROYAL FLYCATCHER     1.0000    1.0000    1.0000         5\n",
      "         RUBY CROWNED KINGLET     1.0000    1.0000    1.0000         5\n",
      "    RUBY THROATED HUMMINGBIRD     1.0000    1.0000    1.0000         5\n",
      "               RUDDY SHELDUCK     1.0000    1.0000    1.0000         5\n",
      "              RUDY KINGFISHER     1.0000    1.0000    1.0000         5\n",
      "            RUFOUS KINGFISHER     0.8333    1.0000    0.9091         5\n",
      "                 RUFOUS TREPE     1.0000    1.0000    1.0000         5\n",
      "                RUFUOS MOTMOT     1.0000    1.0000    1.0000         5\n",
      "              SAMATRAN THRUSH     1.0000    1.0000    1.0000         5\n",
      "                  SAND MARTIN     1.0000    1.0000    1.0000         5\n",
      "               SANDHILL CRANE     1.0000    1.0000    1.0000         5\n",
      "               SATYR TRAGOPAN     1.0000    0.8000    0.8889         5\n",
      "                  SAYS PHOEBE     1.0000    0.6000    0.7500         5\n",
      "   SCARLET CROWNED FRUIT DOVE     1.0000    1.0000    1.0000         5\n",
      "      SCARLET FACED LIOCICHLA     0.8333    1.0000    0.9091         5\n",
      "                 SCARLET IBIS     1.0000    1.0000    1.0000         5\n",
      "                SCARLET MACAW     1.0000    1.0000    1.0000         5\n",
      "              SCARLET TANAGER     1.0000    1.0000    1.0000         5\n",
      "                     SHOEBILL     1.0000    1.0000    1.0000         5\n",
      "       SHORT BILLED DOWITCHER     1.0000    1.0000    1.0000         5\n",
      "              SMITHS LONGSPUR     1.0000    1.0000    1.0000         5\n",
      "                   SNOW GOOSE     1.0000    1.0000    1.0000         5\n",
      "               SNOW PARTRIDGE     0.8333    1.0000    0.9091         5\n",
      "                  SNOWY EGRET     1.0000    1.0000    1.0000         5\n",
      "                    SNOWY OWL     1.0000    1.0000    1.0000         5\n",
      "                 SNOWY PLOVER     1.0000    1.0000    1.0000         5\n",
      "             SNOWY SHEATHBILL     0.8333    1.0000    0.9091         5\n",
      "                         SORA     1.0000    1.0000    1.0000         5\n",
      "             SPANGLED COTINGA     1.0000    1.0000    1.0000         5\n",
      "                SPLENDID WREN     1.0000    1.0000    1.0000         5\n",
      "        SPOON BILED SANDPIPER     1.0000    1.0000    1.0000         5\n",
      "              SPOTTED CATBIRD     1.0000    1.0000    1.0000         5\n",
      "       SPOTTED WHISTLING DUCK     1.0000    1.0000    1.0000         5\n",
      "                SQUACCO HERON     1.0000    1.0000    1.0000         5\n",
      "        SRI LANKA BLUE MAGPIE     1.0000    1.0000    1.0000         5\n",
      "                 STEAMER DUCK     1.0000    1.0000    1.0000         5\n",
      "      STORK BILLED KINGFISHER     1.0000    1.0000    1.0000         5\n",
      "            STRIATED CARACARA     1.0000    0.6000    0.7500         5\n",
      "                  STRIPED OWL     1.0000    1.0000    1.0000         5\n",
      "             STRIPPED MANAKIN     1.0000    1.0000    1.0000         5\n",
      "             STRIPPED SWALLOW     1.0000    1.0000    1.0000         5\n",
      "                   SUNBITTERN     1.0000    1.0000    1.0000         5\n",
      "              SUPERB STARLING     1.0000    1.0000    1.0000         5\n",
      "                  SURF SCOTER     0.8333    1.0000    0.9091         5\n",
      "            SWINHOES PHEASANT     1.0000    1.0000    1.0000         5\n",
      "                   TAILORBIRD     1.0000    1.0000    1.0000         5\n",
      "                TAIWAN MAGPIE     1.0000    1.0000    1.0000         5\n",
      "                       TAKAHE     1.0000    1.0000    1.0000         5\n",
      "                TASMANIAN HEN     1.0000    1.0000    1.0000         5\n",
      "              TAWNY FROGMOUTH     0.8333    1.0000    0.9091         5\n",
      "                    TEAL DUCK     1.0000    0.8000    0.8889         5\n",
      "                    TIT MOUSE     1.0000    1.0000    1.0000         5\n",
      "                      TOUCHAN     1.0000    1.0000    1.0000         5\n",
      "            TOWNSENDS WARBLER     1.0000    0.8000    0.8889         5\n",
      "                 TREE SWALLOW     1.0000    1.0000    1.0000         5\n",
      "         TRICOLORED BLACKBIRD     1.0000    1.0000    1.0000         5\n",
      "            TROPICAL KINGBIRD     0.8333    1.0000    0.9091         5\n",
      "                TRUMPTER SWAN     1.0000    1.0000    1.0000         5\n",
      "               TURKEY VULTURE     1.0000    1.0000    1.0000         5\n",
      "             TURQUOISE MOTMOT     1.0000    1.0000    1.0000         5\n",
      "                UMBRELLA BIRD     1.0000    1.0000    1.0000         5\n",
      "                VARIED THRUSH     1.0000    1.0000    1.0000         5\n",
      "                        VEERY     1.0000    1.0000    1.0000         5\n",
      "         VENEZUELIAN TROUPIAL     0.8333    1.0000    0.9091         5\n",
      "                       VERDIN     1.0000    1.0000    1.0000         5\n",
      "          VERMILION FLYCATHER     1.0000    1.0000    1.0000         5\n",
      "      VICTORIA CROWNED PIGEON     1.0000    1.0000    1.0000         5\n",
      "       VIOLET BACKED STARLING     1.0000    0.8000    0.8889         5\n",
      "                VIOLET CUCKOO     1.0000    0.8000    0.8889         5\n",
      "         VIOLET GREEN SWALLOW     1.0000    1.0000    1.0000         5\n",
      "                VIOLET TURACO     1.0000    1.0000    1.0000         5\n",
      "             VISAYAN HORNBILL     1.0000    1.0000    1.0000         5\n",
      "         VULTURINE GUINEAFOWL     1.0000    1.0000    1.0000         5\n",
      "                 WALL CREAPER     1.0000    1.0000    1.0000         5\n",
      "             WATTLED CURASSOW     1.0000    1.0000    1.0000         5\n",
      "              WATTLED LAPWING     1.0000    1.0000    1.0000         5\n",
      "                     WHIMBREL     1.0000    1.0000    1.0000         5\n",
      "      WHITE BREASTED WATERHEN     1.0000    1.0000    1.0000         5\n",
      "           WHITE BROWED CRAKE     1.0000    1.0000    1.0000         5\n",
      "         WHITE CHEEKED TURACO     1.0000    0.8000    0.8889         5\n",
      "       WHITE CRESTED HORNBILL     1.0000    1.0000    1.0000         5\n",
      "      WHITE EARED HUMMINGBIRD     1.0000    1.0000    1.0000         5\n",
      "           WHITE NECKED RAVEN     1.0000    1.0000    1.0000         5\n",
      "          WHITE TAILED TROPIC     1.0000    1.0000    1.0000         5\n",
      "     WHITE THROATED BEE EATER     1.0000    1.0000    1.0000         5\n",
      "                  WILD TURKEY     1.0000    1.0000    1.0000         5\n",
      "             WILLOW PTARMIGAN     1.0000    0.8000    0.8889         5\n",
      "     WILSONS BIRD OF PARADISE     1.0000    1.0000    1.0000         5\n",
      "                    WOOD DUCK     1.0000    1.0000    1.0000         5\n",
      "                  WOOD THRUSH     1.0000    1.0000    1.0000         5\n",
      "          WOODLAND KINGFISHER     1.0000    1.0000    1.0000         5\n",
      "                      WRENTIT     1.0000    1.0000    1.0000         5\n",
      "  YELLOW BELLIED FLOWERPECKER     1.0000    1.0000    1.0000         5\n",
      "         YELLOW BREASTED CHAT     1.0000    1.0000    1.0000         5\n",
      "               YELLOW CACIQUE     1.0000    1.0000    1.0000         5\n",
      "      YELLOW HEADED BLACKBIRD     1.0000    1.0000    1.0000         5\n",
      "                   ZEBRA DOVE     1.0000    1.0000    1.0000         5\n",
      "\n",
      "                     accuracy                         0.9832      2625\n",
      "                    macro avg     0.9858    0.9832    0.9828      2625\n",
      "                 weighted avg     0.9858    0.9832    0.9828      2625\n",
      "\n"
     ]
    }
   ],
   "source": [
    "print(report)"
   ]
  },
  {
   "cell_type": "markdown",
   "id": "adb0eb4d",
   "metadata": {
    "papermill": {
     "duration": 0.016493,
     "end_time": "2024-01-21T12:44:00.523847",
     "exception": false,
     "start_time": "2024-01-21T12:44:00.507354",
     "status": "completed"
    },
    "tags": []
   },
   "source": [
    "### Nhận xét: mô hình performance tốt trên tập Test\n",
    "\n",
    "Accuracy: Với giá trị accuracy là 0.9832, mô hình của đã phân loại đúng 98.32% các ảnh trong tập dữ liệu test. Đây là một kết quả rất tốt ,mô hình nhận diện và phân loại hình ảnh chim rất tốt.\n",
    "\n",
    "Macro avg và Weighted avg: Đối với macro avg, precision, recall và F1-score đều cao (lớn hơn 98%). Điều này có nghĩa là mô hình hiệu quả trong việc phân loại các lớp khác nhau của chim một cách đồng đều.\n",
    "\n",
    "Precision, Recall, và F1-score: Mức độ chính xác, độ phủ và điểm F1 của mô hình đều khá cao, với giá trị lớn hơn 98% => mô hình của không chỉ đạt được độ chính xác cao mà còn giữ được sự cân bằng giữa precision và recall.\n",
    "\n",
    "f1-score thấp nhất là 0.75 với ALTAMIRA YELLOWTHROAT, AUSTRAL CANASTERO, SAYS PHOEBE, STRIATED CARACARA (trên 525 là chấp nhận được) do có nhiều loại chim có ngoại hình giống nhau chỉ khác biệt chút ít về hình thể hay các chi tiết nhỏ.\n",
    "\n",
    "=> mô hình thông minh, hoạt động hiệu quả trong việc phân loại hình ảnh các loài chim. "
   ]
  }
 ],
 "metadata": {
  "kaggle": {
   "accelerator": "gpu",
   "dataSources": [
    {
     "datasetId": 534640,
     "sourceId": 5468571,
     "sourceType": "datasetVersion"
    }
   ],
   "isGpuEnabled": true,
   "isInternetEnabled": true,
   "language": "python",
   "sourceType": "notebook"
  },
  "kernelspec": {
   "display_name": "Python 3",
   "language": "python",
   "name": "python3"
  },
  "language_info": {
   "codemirror_mode": {
    "name": "ipython",
    "version": 3
   },
   "file_extension": ".py",
   "mimetype": "text/x-python",
   "name": "python",
   "nbconvert_exporter": "python",
   "pygments_lexer": "ipython3",
   "version": "3.10.12"
  },
  "papermill": {
   "default_parameters": {},
   "duration": 13526.089639,
   "end_time": "2024-01-21T12:44:02.713686",
   "environment_variables": {},
   "exception": null,
   "input_path": "__notebook__.ipynb",
   "output_path": "__notebook__.ipynb",
   "parameters": {},
   "start_time": "2024-01-21T08:58:36.624047",
   "version": "2.4.0"
  }
 },
 "nbformat": 4,
 "nbformat_minor": 5
}
